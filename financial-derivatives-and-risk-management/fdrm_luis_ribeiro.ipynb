{
 "cells": [
  {
   "cell_type": "markdown",
   "metadata": {},
   "source": [
    "# Financial Derivatives and Risk Management\n",
    "## Individual Assignment (2024)\n",
    "### Author: Luís Filipe Ribeiro (20231536)"
   ]
  },
  {
   "cell_type": "markdown",
   "metadata": {},
   "source": [
    "----------------------------------------"
   ]
  },
  {
   "cell_type": "markdown",
   "metadata": {},
   "source": [
    "## 1) Select a stock or index with liquid options in the 1 to 3 month range. Name your stock/index."
   ]
  },
  {
   "cell_type": "markdown",
   "metadata": {},
   "source": [
    "### a) Pick a expiration timeframe T to consider in this range"
   ]
  },
  {
   "cell_type": "code",
   "execution_count": 2,
   "metadata": {},
   "outputs": [
    {
     "name": "stdout",
     "output_type": "stream",
     "text": [
      "Closest option date:  2024-09-20\n",
      "Actual T value: 0.24722222222222223\n",
      "Actual number of outstanding days (tenor): 89\n"
     ]
    }
   ],
   "source": [
    "import numpy as np\n",
    "import yfinance as yf\n",
    "from datetime import datetime, timedelta\n",
    "\n",
    "#For this assignment, I chose Coca-Cola stock for a maturity/tenor of T=3/12 (expiring 3 mo.)\n",
    "symbol = 'KO'\n",
    "ticker = yf.Ticker(symbol)\n",
    "\n",
    "#useful\n",
    "date_format = '%Y-%m-%d'\n",
    "today_date = datetime.now()\n",
    "\n",
    "\n",
    "closest_date = min(\n",
    "    map(lambda dt: datetime.strptime(dt, date_format), ticker.options), \n",
    "    key=lambda dt_obj: abs(dt_obj - (today_date + timedelta(days=90)))\n",
    ")\n",
    "\n",
    "#Determine actual tenor of option (close to 3/12), but we need it for better pricing\n",
    "N = (closest_date - datetime.strptime(today_date.strftime(date_format), date_format)).days\n",
    "T = N / 360\n",
    "\n",
    "#convert from date time to string\n",
    "closest_date_dt_obj = closest_date\n",
    "closest_date = closest_date.strftime(date_format)\n",
    "\n",
    "print(\"Closest option date: \", closest_date)\n",
    "print(\"Actual T value:\", T)\n",
    "print(\"Actual number of outstanding days (tenor):\", N)"
   ]
  },
  {
   "cell_type": "markdown",
   "metadata": {},
   "source": [
    "### b) Pick the strike price available closest to current price"
   ]
  },
  {
   "cell_type": "code",
   "execution_count": 3,
   "metadata": {},
   "outputs": [
    {
     "data": {
      "text/html": [
       "<div>\n",
       "<style scoped>\n",
       "    .dataframe tbody tr th:only-of-type {\n",
       "        vertical-align: middle;\n",
       "    }\n",
       "\n",
       "    .dataframe tbody tr th {\n",
       "        vertical-align: top;\n",
       "    }\n",
       "\n",
       "    .dataframe thead th {\n",
       "        text-align: right;\n",
       "    }\n",
       "</style>\n",
       "<table border=\"1\" class=\"dataframe\">\n",
       "  <thead>\n",
       "    <tr style=\"text-align: right;\">\n",
       "      <th></th>\n",
       "      <th>contractSymbol</th>\n",
       "      <th>lastTradeDate</th>\n",
       "      <th>strike</th>\n",
       "      <th>lastPrice</th>\n",
       "      <th>bid</th>\n",
       "      <th>ask</th>\n",
       "      <th>change</th>\n",
       "      <th>percentChange</th>\n",
       "      <th>volume</th>\n",
       "      <th>openInterest</th>\n",
       "      <th>impliedVolatility</th>\n",
       "      <th>inTheMoney</th>\n",
       "      <th>contractSize</th>\n",
       "      <th>currency</th>\n",
       "    </tr>\n",
       "  </thead>\n",
       "  <tbody>\n",
       "    <tr>\n",
       "      <th>0</th>\n",
       "      <td>KO240920C00047500</td>\n",
       "      <td>2024-05-13 13:42:05+00:00</td>\n",
       "      <td>47.5</td>\n",
       "      <td>16.27</td>\n",
       "      <td>15.50</td>\n",
       "      <td>15.65</td>\n",
       "      <td>0.0</td>\n",
       "      <td>0.0</td>\n",
       "      <td>1</td>\n",
       "      <td>1</td>\n",
       "      <td>0.396490</td>\n",
       "      <td>True</td>\n",
       "      <td>REGULAR</td>\n",
       "      <td>USD</td>\n",
       "    </tr>\n",
       "    <tr>\n",
       "      <th>1</th>\n",
       "      <td>KO240920C00050000</td>\n",
       "      <td>2024-06-13 19:03:45+00:00</td>\n",
       "      <td>50.0</td>\n",
       "      <td>13.12</td>\n",
       "      <td>11.60</td>\n",
       "      <td>15.50</td>\n",
       "      <td>0.0</td>\n",
       "      <td>0.0</td>\n",
       "      <td>5</td>\n",
       "      <td>11</td>\n",
       "      <td>0.671390</td>\n",
       "      <td>True</td>\n",
       "      <td>REGULAR</td>\n",
       "      <td>USD</td>\n",
       "    </tr>\n",
       "    <tr>\n",
       "      <th>2</th>\n",
       "      <td>KO240920C00052500</td>\n",
       "      <td>2024-06-20 14:27:26+00:00</td>\n",
       "      <td>52.5</td>\n",
       "      <td>10.88</td>\n",
       "      <td>9.00</td>\n",
       "      <td>13.05</td>\n",
       "      <td>0.0</td>\n",
       "      <td>0.0</td>\n",
       "      <td>1</td>\n",
       "      <td>144</td>\n",
       "      <td>0.590336</td>\n",
       "      <td>True</td>\n",
       "      <td>REGULAR</td>\n",
       "      <td>USD</td>\n",
       "    </tr>\n",
       "    <tr>\n",
       "      <th>3</th>\n",
       "      <td>KO240920C00055000</td>\n",
       "      <td>2024-06-14 15:44:56+00:00</td>\n",
       "      <td>55.0</td>\n",
       "      <td>8.31</td>\n",
       "      <td>7.10</td>\n",
       "      <td>10.65</td>\n",
       "      <td>0.0</td>\n",
       "      <td>0.0</td>\n",
       "      <td>1</td>\n",
       "      <td>146</td>\n",
       "      <td>0.514653</td>\n",
       "      <td>True</td>\n",
       "      <td>REGULAR</td>\n",
       "      <td>USD</td>\n",
       "    </tr>\n",
       "    <tr>\n",
       "      <th>4</th>\n",
       "      <td>KO240920C00057500</td>\n",
       "      <td>2024-06-20 13:59:17+00:00</td>\n",
       "      <td>57.5</td>\n",
       "      <td>5.90</td>\n",
       "      <td>6.15</td>\n",
       "      <td>6.35</td>\n",
       "      <td>0.0</td>\n",
       "      <td>0.0</td>\n",
       "      <td>1</td>\n",
       "      <td>130</td>\n",
       "      <td>0.252815</td>\n",
       "      <td>True</td>\n",
       "      <td>REGULAR</td>\n",
       "      <td>USD</td>\n",
       "    </tr>\n",
       "  </tbody>\n",
       "</table>\n",
       "</div>"
      ],
      "text/plain": [
       "      contractSymbol             lastTradeDate  strike  lastPrice    bid  \\\n",
       "0  KO240920C00047500 2024-05-13 13:42:05+00:00    47.5      16.27  15.50   \n",
       "1  KO240920C00050000 2024-06-13 19:03:45+00:00    50.0      13.12  11.60   \n",
       "2  KO240920C00052500 2024-06-20 14:27:26+00:00    52.5      10.88   9.00   \n",
       "3  KO240920C00055000 2024-06-14 15:44:56+00:00    55.0       8.31   7.10   \n",
       "4  KO240920C00057500 2024-06-20 13:59:17+00:00    57.5       5.90   6.15   \n",
       "\n",
       "     ask  change  percentChange  volume  openInterest  impliedVolatility  \\\n",
       "0  15.65     0.0            0.0       1             1           0.396490   \n",
       "1  15.50     0.0            0.0       5            11           0.671390   \n",
       "2  13.05     0.0            0.0       1           144           0.590336   \n",
       "3  10.65     0.0            0.0       1           146           0.514653   \n",
       "4   6.35     0.0            0.0       1           130           0.252815   \n",
       "\n",
       "   inTheMoney contractSize currency  \n",
       "0        True      REGULAR      USD  \n",
       "1        True      REGULAR      USD  \n",
       "2        True      REGULAR      USD  \n",
       "3        True      REGULAR      USD  \n",
       "4        True      REGULAR      USD  "
      ]
     },
     "execution_count": 3,
     "metadata": {},
     "output_type": "execute_result"
    }
   ],
   "source": [
    "#Because the assignment does not specify, I assume it's a call option\n",
    "#So first step is listing all strike prices expiring 3 mo. from current date\n",
    "option_chain = ticker.option_chain(closest_date)\n",
    "\n",
    "calls = option_chain.calls\n",
    "puts = option_chain.puts\n",
    "\n",
    "calls.head()"
   ]
  },
  {
   "cell_type": "code",
   "execution_count": 4,
   "metadata": {},
   "outputs": [
    {
     "name": "stdout",
     "output_type": "stream",
     "text": [
      "Current price: 62.77\n",
      "\n",
      "Closest strike price: 62.5\n"
     ]
    }
   ],
   "source": [
    "#Second step is getting closest call option to current price\n",
    "S0 = ticker.info['currentPrice']\n",
    "print(\"Current price:\", S0)\n",
    "\n",
    "#Determine closest call & put\n",
    "closest_call = calls.iloc[(calls['strike'] - S0).abs().argmin()]\n",
    "closest_put = puts.iloc[(puts['strike'] - S0).abs().argmin()]\n",
    "\n",
    "#This has to be true to continue...\n",
    "assert closest_call.strike == closest_put.strike\n",
    "\n",
    "#print(\"\\nClosest call option:\", closest_call)\n",
    "K = closest_call.strike\n",
    "print(\"\\nClosest strike price:\", K)"
   ]
  },
  {
   "cell_type": "markdown",
   "metadata": {},
   "source": [
    "### c) Determine the risk free rate you will apply and find the value"
   ]
  },
  {
   "cell_type": "markdown",
   "metadata": {},
   "source": [
    "The risk free rate should be the rate that is expected for money applications/deposits for the duration of the investment. Since we're dealing with an option expiring in 3 mo., the rate should be the risk free rate for a 3 mo. investment.\n",
    "\n",
    "The closest we can essentially get to a risk free investment is a US Treasury obligation/bond for that duration of time. So the rate will be the US T-Bill for 3 mo.\n",
    "\n",
    "There is a really simple way to get the US 3 mo. T-Bill yield using Yahoo Finance. We can simply look up the IRX index is which is the 13 week US T-Bill rate: https://finance.yahoo.com/quote/%5EIRX/"
   ]
  },
  {
   "cell_type": "code",
   "execution_count": 5,
   "metadata": {},
   "outputs": [
    {
     "name": "stdout",
     "output_type": "stream",
     "text": [
      "Risk free rate =  0.052150001525878904\n"
     ]
    }
   ],
   "source": [
    "def get_3mo_risk_free_rate():\n",
    "    rate = yf.Ticker('^IRX') \\\n",
    "        .history(period=\"1d\") \\\n",
    "        .Close \\\n",
    "        .iloc[-1]\n",
    "    return rate / 100\n",
    "\n",
    "rf = get_3mo_risk_free_rate()\n",
    "print(\"Risk free rate = \", rf)"
   ]
  },
  {
   "cell_type": "markdown",
   "metadata": {},
   "source": [
    "### d) Estimate volatility for the calculation of option prices"
   ]
  },
  {
   "cell_type": "markdown",
   "metadata": {},
   "source": [
    "For estimatine the volatility of the option, we can determine the annualized standard deviation of the last 3 months of daily returns.\n",
    "\n",
    "In other words: sigma_3mo = std_dev(daily_returns_last_3mo) * sqrt(252)"
   ]
  },
  {
   "cell_type": "code",
   "execution_count": 6,
   "metadata": {},
   "outputs": [
    {
     "name": "stdout",
     "output_type": "stream",
     "text": [
      "Sigma/Volatility:  0.11054128132910053\n"
     ]
    }
   ],
   "source": [
    "#Determine the volatility of last 3 months daily log returns\n",
    "sigma = ticker.history(period=\"3mo\") \\\n",
    "    .pct_change() \\\n",
    "    .Close \\\n",
    "    .apply(lambda r: np.log(r+1)) \\\n",
    "    .std()\n",
    "\n",
    "#Annualize it\n",
    "sigma *= np.sqrt(252)\n",
    "\n",
    "print(\"Sigma/Volatility: \", sigma)"
   ]
  },
  {
   "cell_type": "markdown",
   "metadata": {},
   "source": [
    "### e) Consider if you will include a dividend yield and estimate if so"
   ]
  },
  {
   "cell_type": "markdown",
   "metadata": {},
   "source": [
    "The chosen company, Coca-Cola, is a well known for dividend paying. Therefore, I will include a dividend yield estimate.\n",
    "\n",
    "The easy way to do it is using the put-call parity:\n",
    "$$ c + Ke^{-rT} = p + S_0e^{-qT}$$\n",
    "So it follows that:\n",
    "$$ \\frac{ -ln( \\frac{c + Ke^{-rT} - p}{S_0} ) }{T} = q $$"
   ]
  },
  {
   "cell_type": "code",
   "execution_count": 7,
   "metadata": {},
   "outputs": [
    {
     "name": "stdout",
     "output_type": "stream",
     "text": [
      "Dividend yield: 0.014888545239218665\n"
     ]
    }
   ],
   "source": [
    "def get_dividend_yield(S, c, p, K, r, T):\n",
    "    log_arg = (c + K * np.exp(-r * T) - p)/S\n",
    "    return -np.log(log_arg)/T\n",
    "    \n",
    "q = get_dividend_yield(S=S0, c=closest_call.lastPrice, p=closest_put.lastPrice, K=K, r=rf, T=T)\n",
    "print(\"Dividend yield:\", q)"
   ]
  },
  {
   "cell_type": "markdown",
   "metadata": {},
   "source": [
    "Alternatively we could find a root finder..."
   ]
  },
  {
   "cell_type": "code",
   "execution_count": 8,
   "metadata": {},
   "outputs": [
    {
     "data": {
      "text/plain": [
       "0.014888545239218483"
      ]
     },
     "execution_count": 8,
     "metadata": {},
     "output_type": "execute_result"
    }
   ],
   "source": [
    "from scipy.optimize import fsolve\n",
    "\n",
    "def dividend_yield_root_func(q):\n",
    "    lhs = closest_call.lastPrice + K * np.exp(-rf * T)\n",
    "    rhs = closest_put.lastPrice + S0 * np.exp(-q * T)\n",
    "    return lhs - rhs\n",
    "\n",
    "fsolve(dividend_yield_root_func, 0.01)[0]"
   ]
  },
  {
   "cell_type": "markdown",
   "metadata": {},
   "source": [
    "## 2) Estimate European Call and Put option prices using your previously decided values with the generalized Black-Scholes formula"
   ]
  },
  {
   "cell_type": "markdown",
   "metadata": {},
   "source": [
    "### a) Confirm that the put-call parity holds"
   ]
  },
  {
   "cell_type": "markdown",
   "metadata": {},
   "source": [
    "The goal now is to check if the put-call parity holds true for option prices computed by the Black-Scholes formula.\n",
    "$$ c + Ke^{-rT} = p + S_0e^{-qT}$$"
   ]
  },
  {
   "cell_type": "markdown",
   "metadata": {},
   "source": [
    "**Note: because we're dealing with dividend yielding stock, we must use Black-Scholes-Merton model which already takes into account dividends.**"
   ]
  },
  {
   "cell_type": "markdown",
   "metadata": {},
   "source": [
    "We can start by defining the Black-Scholes formulas for using in Python:"
   ]
  },
  {
   "cell_type": "code",
   "execution_count": 9,
   "metadata": {},
   "outputs": [],
   "source": [
    "from scipy.stats import norm\n",
    "\n",
    "def d1(S, K, T, sigma, r, q):\n",
    "    return (np.log(S/K) + (r-q+sigma**2/2) * T)/(sigma * np.sqrt(T))\n",
    "\n",
    "def d2(S, K, T, sigma, r, q):\n",
    "    return d1(S, K, T, sigma, r, q) - sigma * np.sqrt(T)\n",
    "\n",
    "#Normal dist functions\n",
    "N_func = lambda x: norm.cdf(x)\n",
    "N_prime_func = lambda x: norm.pdf(x)\n",
    "\n",
    "def bsm_call(S, K, T, sigma, r, q):\n",
    "    return S * np.exp(-q*T) * N_func(d1(S, K, T, sigma, r, q)) - K * np.exp(-r*T) * N_func(d2(S, K, T, sigma, r, q))\n",
    "\n",
    "def bsm_put(S, K, T, sigma, r, q):\n",
    "    return K * np.exp(-r*T) * N_func(-d2(S, K, T, sigma, r, q)) - S * np.exp(-q*T) * N_func(-d1(S, K, T, sigma, r, q))"
   ]
  },
  {
   "cell_type": "markdown",
   "metadata": {},
   "source": [
    "Now we can determine the BSM option prices:"
   ]
  },
  {
   "cell_type": "code",
   "execution_count": 10,
   "metadata": {},
   "outputs": [
    {
     "name": "stdout",
     "output_type": "stream",
     "text": [
      "Call BSM price: 1.8229190731457834\n",
      "Put BSM price: 0.9829190731457906\n"
     ]
    }
   ],
   "source": [
    "call_bsm_price = bsm_call(S0, K, T, sigma, rf, q)\n",
    "print(\"Call BSM price:\", call_bsm_price)\n",
    "put_bsm_price = bsm_put(S0, K, T, sigma, rf, q)\n",
    "print(\"Put BSM price:\", put_bsm_price)"
   ]
  },
  {
   "cell_type": "markdown",
   "metadata": {},
   "source": [
    "We will now check if the condition holds: $$ c + Ke^{-rT} = p + S_0e^{-qT}$$"
   ]
  },
  {
   "cell_type": "code",
   "execution_count": 11,
   "metadata": {},
   "outputs": [
    {
     "name": "stdout",
     "output_type": "stream",
     "text": [
      "Left hand side: 63.52230\n",
      "Right hand side: 63.52230\n"
     ]
    }
   ],
   "source": [
    "print(\"Left hand side: {:.5f}\".format(call_bsm_price + K * np.exp(-rf * T)))\n",
    "print(\"Right hand side: {:.5f}\".format(put_bsm_price + S0 * np.exp(-q * T)))"
   ]
  },
  {
   "cell_type": "markdown",
   "metadata": {},
   "source": [
    "We can see very clearly that the put-call parity holds for Black-Scholes calculated prices. But we can also study if market prices hold this parity as well:"
   ]
  },
  {
   "cell_type": "code",
   "execution_count": 12,
   "metadata": {},
   "outputs": [
    {
     "name": "stdout",
     "output_type": "stream",
     "text": [
      "Left hand side: 63.93938\n",
      "Right hand side: 63.93938\n"
     ]
    }
   ],
   "source": [
    "print(\"Left hand side: {:.5f}\".format(closest_call.lastPrice + K * np.exp(-rf * T)))\n",
    "print(\"Right hand side: {:.5f}\".format(closest_put.lastPrice + S0 * np.exp(-q * T)))"
   ]
  },
  {
   "cell_type": "markdown",
   "metadata": {},
   "source": [
    "We can see that for **real market prices, the parity also does hold.**"
   ]
  },
  {
   "cell_type": "markdown",
   "metadata": {},
   "source": [
    "### b) Estimate and analyze the Greeks for both contracts"
   ]
  },
  {
   "cell_type": "markdown",
   "metadata": {},
   "source": [
    "The first greek to analyze is Delta. Delta measures the sensitivity to the option value to the variation in price of the underlying. \n",
    "\n",
    "If a delta is 0.5, then it means that if the underlying's price goes up 1$, then the premium of the option goes up 0.5 * 1$ = 0.5$. The reverse effect applies if the underlying's price goes down..."
   ]
  },
  {
   "cell_type": "code",
   "execution_count": 13,
   "metadata": {},
   "outputs": [],
   "source": [
    "def delta_call(S, K, T, sigma, r, q):\n",
    "    return N_func(d1(S, K, T, sigma, r, q)) * np.exp(-q*T)\n",
    "\n",
    "def delta_put(S, K, T, sigma, r, q):\n",
    "    return (N_func(d1(S, K, T, sigma, r, q)) - 1) * np.exp(-q*T)"
   ]
  },
  {
   "cell_type": "markdown",
   "metadata": {},
   "source": [
    "Gamma measures the sensitivity of the delta to *small* alterations in the underlying's price. Since Gamma is the derivative of delta, it's the same for a call or put option.\n",
    "\n",
    "The way to interpret Gamma is that if we have a 0.02 gamma, then for 1$ increase in price, delta will vary 0.02..."
   ]
  },
  {
   "cell_type": "code",
   "execution_count": 14,
   "metadata": {},
   "outputs": [],
   "source": [
    "def gamma_call(S, K, T, sigma, r, q):\n",
    "    return N_prime_func(d1(S, K, T, sigma, r, q)) * np.exp(-q*T) * 1/(S * sigma * np.sqrt(T))\n",
    "\n",
    "def gamma_put(S, K, T, sigma, r, q):\n",
    "    return gamma_call(S, K, T, sigma, r, q)"
   ]
  },
  {
   "cell_type": "markdown",
   "metadata": {},
   "source": [
    "Theta measures the option's sensitivity to small continuous alterations in tenor (time to maturity). If we have a theta of -3 then it means that daily the option loses -3/365 = -0.0082$ per day."
   ]
  },
  {
   "cell_type": "code",
   "execution_count": 15,
   "metadata": {},
   "outputs": [],
   "source": [
    "def theta_call(S, K, T, sigma, r, q):\n",
    "    c = -S * sigma * N_prime_func(d1(S, K, T, sigma, r, q))/(2 * np.sqrt(T))\n",
    "    p = K * r * np.exp(-r*T) * N_func(d2(S, K, T, sigma, r, q))\n",
    "    d = q * S * N_func(d1(S, K, T, sigma, r, q)) * np.exp(-q*T)\n",
    "    return c - p + d\n",
    "\n",
    "def theta_put(S, K, T, sigma, r, q):\n",
    "    c = -S * sigma * N_prime_func(-d1(S, K, T, sigma, r, q))/(2 * np.sqrt(T))\n",
    "    p = K * r * np.exp(-r*T) * N_func(-d2(S, K, T, sigma, r, q))\n",
    "    d = q * S * N_func(-d1(S, K, T, sigma, r, q)) * np.exp(-q*T)\n",
    "    return c + p - d"
   ]
  },
  {
   "cell_type": "markdown",
   "metadata": {},
   "source": [
    "Vega measures the option's sensitivity to small alterations in underlying's volatility. Since it doesn't matter the direction of the contract, it's the same for both puts and calls.\n",
    "\n",
    "The more volatility, the more the contract will be valued at so vega is always positive. If we have a Vega of 14, then it means that for a +1% variation of volatility, the option's premium will vary +0.14$ (1% of 14)."
   ]
  },
  {
   "cell_type": "code",
   "execution_count": 16,
   "metadata": {},
   "outputs": [],
   "source": [
    "def vega_call(S, K, T, sigma, r, q):\n",
    "    return S * np.sqrt(T) * N_prime_func(d1(S, K, T, sigma, r, q)) * np.exp(-q*T)\n",
    "\n",
    "def vega_put(S, K, T, sigma, r, q):\n",
    "    return vega_call(S, K, T, sigma, r, q)"
   ]
  },
  {
   "cell_type": "markdown",
   "metadata": {},
   "source": [
    "Rho measures the sensitivity of the option's value to small interest rate changes.\n",
    "\n",
    "The premium of a call varies positively with increases in interest rates because the payoff's value increases as well. The inverse happens with puts: rises in interest rates decrease the put option premium.\n",
    "\n",
    "Like Vega, we can interpret it on a percentage basis: a Rho of 14 means that the option's premium will increase 0.14$ (14 * 1%) for a call, and decrease the same amount for a put."
   ]
  },
  {
   "cell_type": "code",
   "execution_count": 17,
   "metadata": {},
   "outputs": [],
   "source": [
    "def rho_call(S, K, T, sigma, r, q):\n",
    "    return T * K * np.exp(-r*T) * N_func(d2(S, K, T, sigma, r, q))\n",
    "\n",
    "def rho_put(S, K, T, sigma, r, q):\n",
    "    return -T * K * np.exp(-r*T) * N_func(-d2(S, K, T, sigma, r, q))"
   ]
  },
  {
   "cell_type": "markdown",
   "metadata": {},
   "source": [
    "With the interpretations given above, we can formulate a table with the results as well as a interpretation of the results."
   ]
  },
  {
   "cell_type": "code",
   "execution_count": 18,
   "metadata": {},
   "outputs": [
    {
     "data": {
      "text/html": [
       "<div>\n",
       "<style scoped>\n",
       "    .dataframe tbody tr th:only-of-type {\n",
       "        vertical-align: middle;\n",
       "    }\n",
       "\n",
       "    .dataframe tbody tr th {\n",
       "        vertical-align: top;\n",
       "    }\n",
       "\n",
       "    .dataframe thead th {\n",
       "        text-align: right;\n",
       "    }\n",
       "</style>\n",
       "<table border=\"1\" class=\"dataframe\">\n",
       "  <thead>\n",
       "    <tr style=\"text-align: right;\">\n",
       "      <th></th>\n",
       "      <th>call</th>\n",
       "      <th>put</th>\n",
       "    </tr>\n",
       "  </thead>\n",
       "  <tbody>\n",
       "    <tr>\n",
       "      <th>delta</th>\n",
       "      <td>0.605537</td>\n",
       "      <td>-0.390788</td>\n",
       "    </tr>\n",
       "    <tr>\n",
       "      <th>gamma</th>\n",
       "      <td>0.110980</td>\n",
       "      <td>0.110980</td>\n",
       "    </tr>\n",
       "    <tr>\n",
       "      <th>theta</th>\n",
       "      <td>-4.002669</td>\n",
       "      <td>-1.716166</td>\n",
       "    </tr>\n",
       "    <tr>\n",
       "      <th>vega</th>\n",
       "      <td>11.949859</td>\n",
       "      <td>11.949859</td>\n",
       "    </tr>\n",
       "    <tr>\n",
       "      <th>rho</th>\n",
       "      <td>8.946149</td>\n",
       "      <td>-6.307309</td>\n",
       "    </tr>\n",
       "  </tbody>\n",
       "</table>\n",
       "</div>"
      ],
      "text/plain": [
       "            call        put\n",
       "delta   0.605537  -0.390788\n",
       "gamma   0.110980   0.110980\n",
       "theta  -4.002669  -1.716166\n",
       "vega   11.949859  11.949859\n",
       "rho     8.946149  -6.307309"
      ]
     },
     "execution_count": 18,
     "metadata": {},
     "output_type": "execute_result"
    }
   ],
   "source": [
    "import pandas as pd\n",
    "\n",
    "greeks_df = pd.DataFrame({\n",
    "    'call': [\n",
    "        delta_call(S0, K, T, sigma, rf, q),\n",
    "        gamma_call(S0, K, T, sigma, rf, q),\n",
    "        theta_call(S0, K, T, sigma, rf, q),\n",
    "        vega_call(S0, K, T, sigma, rf, q),\n",
    "        rho_call(S0, K, T, sigma, rf, q)\n",
    "    ],\n",
    "    'put': [\n",
    "        delta_put(S0, K, T, sigma, rf, q),\n",
    "        gamma_put(S0, K, T, sigma, rf, q),\n",
    "        theta_put(S0, K, T, sigma, rf, q),\n",
    "        vega_put(S0, K, T, sigma, rf, q),\n",
    "        rho_put(S0, K, T, sigma, rf, q)\n",
    "    ]\n",
    "}, index = ['delta', 'gamma', 'theta', 'vega', 'rho'])\n",
    "\n",
    "greeks_df"
   ]
  },
  {
   "cell_type": "code",
   "execution_count": 19,
   "metadata": {},
   "outputs": [
    {
     "name": "stdout",
     "output_type": "stream",
     "text": [
      "---------- CALL OPTION $KO : S=62.77; K=62.5; Expiring 2024-09-20 ----------\n",
      "Delta = 0.6055374993864736 -> Premium increases 0.6055374993864736$ per 1$ increase in underlying price\n",
      "Gamma = 0.11098046247650158 -> Per 1$ increase in underlying price, Delta varies 0.11098046247650158\n",
      "Theta = -4.002668876842282 -> Per day, premium decreases/loses 0.010966216100937759$\n",
      "Vega = 11.949859188892852 -> Per 1% volatility increase, premium increases 0.11949859188892852$\n",
      "Rho = 8.946148913715394 -> Per 1% change in interest rates, premium varies 0.08946148913715395$\n",
      "------------------------------------------------------------------------------------------\n",
      "\n",
      "---------- PUT OPTION $KO : S=62.77; K=62.5; Expiring 2024-09-20 ----------\n",
      "Delta = -0.39078848713809583 -> Premium loses 0.39078848713809583$ per 1$ increase in underlying price\n",
      "Gamma = 0.11098046247650158 -> Per 1$ increase in underlying price, Delta varies 0.11098046247650158\n",
      "Theta = -1.7161664230472953 -> Per day, premium decreases/loses 0.004701825816567932$\n",
      "Vega = 11.949859188892852 -> Per 1% volatility increase, premium increases 0.11949859188892852$\n",
      "Rho = -6.307309457115449 -> Per 1% change in interest rates, premium varies -0.06307309457115448$\n",
      "------------------------------------------------------------------------------------------\n",
      "\n"
     ]
    }
   ],
   "source": [
    "def interpret_greeks_call(greeks):\n",
    "    print(\"-\" * 10 + f\" CALL OPTION ${symbol} : S={S0}; K={K}; Expiring {closest_date} \" + \"-\" * 10)\n",
    "    print(f\"Delta = {greeks.delta} -> Premium increases {greeks.delta}$ per 1$ increase in underlying price\")\n",
    "    print(f\"Gamma = {greeks.gamma} -> Per 1$ increase in underlying price, Delta varies {greeks.gamma}\")\n",
    "    print(f\"Theta = {greeks.theta} -> Per day, premium decreases/loses {greeks.theta/365 * -1}$\")\n",
    "    print(f\"Vega = {greeks.vega} -> Per 1% volatility increase, premium increases {greeks.vega/100}$\")\n",
    "    print(f\"Rho = {greeks.rho} -> Per 1% change in interest rates, premium varies {greeks.rho/100}$\")\n",
    "    print(\"-\" * 90 + \"\\n\")\n",
    "\n",
    "def interpret_greeks_put(greeks):\n",
    "    print(\"-\" * 10 + f\" PUT OPTION ${symbol} : S={S0}; K={K}; Expiring {closest_date} \" + \"-\" * 10)\n",
    "    print(f\"Delta = {greeks.delta} -> Premium loses {greeks.delta * -1}$ per 1$ increase in underlying price\")\n",
    "    print(f\"Gamma = {greeks.gamma} -> Per 1$ increase in underlying price, Delta varies {greeks.gamma}\")\n",
    "    print(f\"Theta = {greeks.theta} -> Per day, premium decreases/loses {greeks.theta/365 * -1}$\")\n",
    "    print(f\"Vega = {greeks.vega} -> Per 1% volatility increase, premium increases {greeks.vega/100}$\")\n",
    "    print(f\"Rho = {greeks.rho} -> Per 1% change in interest rates, premium varies {greeks.rho/100}$\")\n",
    "    print(\"-\" * 90 + \"\\n\")\n",
    "\n",
    "interpret_greeks_call(greeks_df.call)\n",
    "interpret_greeks_put(greeks_df.put)"
   ]
  },
  {
   "cell_type": "markdown",
   "metadata": {},
   "source": [
    "### c) Pick a contract and simulate a delta-hedging strategy over the life of the option"
   ]
  },
  {
   "cell_type": "markdown",
   "metadata": {},
   "source": [
    "#### For delta-hedge simulation, I've chosen the short put option.\n",
    "\n",
    "To simulate a delta-hedging strategy, it's necessary first simulate prices for the duration of the option contract. We can use a GBM starting from current price:"
   ]
  },
  {
   "cell_type": "code",
   "execution_count": 20,
   "metadata": {},
   "outputs": [
    {
     "data": {
      "text/html": [
       "<div>\n",
       "<style scoped>\n",
       "    .dataframe tbody tr th:only-of-type {\n",
       "        vertical-align: middle;\n",
       "    }\n",
       "\n",
       "    .dataframe tbody tr th {\n",
       "        vertical-align: top;\n",
       "    }\n",
       "\n",
       "    .dataframe thead th {\n",
       "        text-align: right;\n",
       "    }\n",
       "</style>\n",
       "<table border=\"1\" class=\"dataframe\">\n",
       "  <thead>\n",
       "    <tr style=\"text-align: right;\">\n",
       "      <th></th>\n",
       "      <th>price</th>\n",
       "      <th>t</th>\n",
       "    </tr>\n",
       "  </thead>\n",
       "  <tbody>\n",
       "    <tr>\n",
       "      <th>2024-09-16</th>\n",
       "      <td>63.515444</td>\n",
       "      <td>0.011111</td>\n",
       "    </tr>\n",
       "    <tr>\n",
       "      <th>2024-09-17</th>\n",
       "      <td>63.207809</td>\n",
       "      <td>0.008333</td>\n",
       "    </tr>\n",
       "    <tr>\n",
       "      <th>2024-09-18</th>\n",
       "      <td>63.095705</td>\n",
       "      <td>0.005556</td>\n",
       "    </tr>\n",
       "    <tr>\n",
       "      <th>2024-09-19</th>\n",
       "      <td>63.188224</td>\n",
       "      <td>0.002778</td>\n",
       "    </tr>\n",
       "    <tr>\n",
       "      <th>2024-09-20</th>\n",
       "      <td>63.527017</td>\n",
       "      <td>0.000000</td>\n",
       "    </tr>\n",
       "  </tbody>\n",
       "</table>\n",
       "</div>"
      ],
      "text/plain": [
       "                price         t\n",
       "2024-09-16  63.515444  0.011111\n",
       "2024-09-17  63.207809  0.008333\n",
       "2024-09-18  63.095705  0.005556\n",
       "2024-09-19  63.188224  0.002778\n",
       "2024-09-20  63.527017  0.000000"
      ]
     },
     "execution_count": 20,
     "metadata": {},
     "output_type": "execute_result"
    }
   ],
   "source": [
    "import matplotlib.pyplot as plt\n",
    "\n",
    "def stock_prices_gbm(S0, r, sigma, T, N):\n",
    "    dt = T/N\n",
    "    t = np.linspace(0, T, N)\n",
    "    W = np.random.standard_normal(size=N).cumsum() * np.sqrt(dt) #Standard Brownian motion\n",
    "    X = (r - 0.5 * sigma**2) * t + sigma * W\n",
    "    S = S0 * np.exp(X)\n",
    "    #insert starting price\n",
    "    return np.insert(S, 0, S0)\n",
    "\n",
    "def get_gbm_df(S0, r, sigma, T, N):\n",
    "    #Simulate stock prices\n",
    "    gbm_stock_prices =  stock_prices_gbm(S0, rf, sigma, T, N)\n",
    "    \n",
    "    #index from dates\n",
    "    index = pd.date_range(datetime.strptime(today_date.strftime(date_format), date_format), closest_date)\n",
    "    \n",
    "    #create time array\n",
    "    t = ((index - datetime.strptime(today_date.strftime(date_format), date_format)).days)[::-1] / 360\n",
    "    \n",
    "    return pd.DataFrame(data = {'price': gbm_stock_prices, 't': t}, index = index, columns = ['price', 't'])\n",
    "\n",
    "#Create DataFrame with prices\n",
    "delta_hedge_df = get_gbm_df(S0, rf, sigma, T, N)\n",
    "\n",
    "delta_hedge_df.tail()"
   ]
  },
  {
   "cell_type": "markdown",
   "metadata": {},
   "source": [
    "The price evolution can be seen over time using the simulated GBM prices:"
   ]
  },
  {
   "cell_type": "code",
   "execution_count": 21,
   "metadata": {},
   "outputs": [
    {
     "data": {
      "image/png": "[encoded data removed]",
      "text/plain": [
       "<Figure size 1000x600 with 1 Axes>"
      ]
     },
     "metadata": {},
     "output_type": "display_data"
    }
   ],
   "source": [
    "import matplotlib.pyplot as plt\n",
    "\n",
    "plt.figure(figsize=(10, 6))\n",
    "delta_hedge_df.price.plot()\n",
    "plt.title('Simulated GBM Stock Prices')\n",
    "plt.xlabel('Date')\n",
    "plt.ylabel('Price')\n",
    "plt.xticks(rotation=45)\n",
    "plt.show()"
   ]
  },
  {
   "cell_type": "markdown",
   "metadata": {},
   "source": [
    "To simulate delta-heding, first determine for each time and price the delta. Given the dataframe already contains that information, it's needed only to include a delta column."
   ]
  },
  {
   "cell_type": "code",
   "execution_count": 22,
   "metadata": {},
   "outputs": [
    {
     "data": {
      "text/html": [
       "<div>\n",
       "<style scoped>\n",
       "    .dataframe tbody tr th:only-of-type {\n",
       "        vertical-align: middle;\n",
       "    }\n",
       "\n",
       "    .dataframe tbody tr th {\n",
       "        vertical-align: top;\n",
       "    }\n",
       "\n",
       "    .dataframe thead th {\n",
       "        text-align: right;\n",
       "    }\n",
       "</style>\n",
       "<table border=\"1\" class=\"dataframe\">\n",
       "  <thead>\n",
       "    <tr style=\"text-align: right;\">\n",
       "      <th></th>\n",
       "      <th>price</th>\n",
       "      <th>t</th>\n",
       "      <th>delta</th>\n",
       "    </tr>\n",
       "  </thead>\n",
       "  <tbody>\n",
       "    <tr>\n",
       "      <th>2024-06-23</th>\n",
       "      <td>62.770000</td>\n",
       "      <td>0.247222</td>\n",
       "      <td>-0.390788</td>\n",
       "    </tr>\n",
       "    <tr>\n",
       "      <th>2024-06-24</th>\n",
       "      <td>63.391087</td>\n",
       "      <td>0.244444</td>\n",
       "      <td>-0.324088</td>\n",
       "    </tr>\n",
       "    <tr>\n",
       "      <th>2024-06-25</th>\n",
       "      <td>63.206332</td>\n",
       "      <td>0.241667</td>\n",
       "      <td>-0.343458</td>\n",
       "    </tr>\n",
       "    <tr>\n",
       "      <th>2024-06-26</th>\n",
       "      <td>63.591991</td>\n",
       "      <td>0.238889</td>\n",
       "      <td>-0.303121</td>\n",
       "    </tr>\n",
       "    <tr>\n",
       "      <th>2024-06-27</th>\n",
       "      <td>63.534683</td>\n",
       "      <td>0.236111</td>\n",
       "      <td>-0.308742</td>\n",
       "    </tr>\n",
       "  </tbody>\n",
       "</table>\n",
       "</div>"
      ],
      "text/plain": [
       "                price         t     delta\n",
       "2024-06-23  62.770000  0.247222 -0.390788\n",
       "2024-06-24  63.391087  0.244444 -0.324088\n",
       "2024-06-25  63.206332  0.241667 -0.343458\n",
       "2024-06-26  63.591991  0.238889 -0.303121\n",
       "2024-06-27  63.534683  0.236111 -0.308742"
      ]
     },
     "execution_count": 22,
     "metadata": {},
     "output_type": "execute_result"
    }
   ],
   "source": [
    "delta_hedge_df['delta'] = delta_put(delta_hedge_df['price'], K, delta_hedge_df['t'], sigma, rf, q)\n",
    "delta_hedge_df.head()"
   ]
  },
  {
   "cell_type": "markdown",
   "metadata": {},
   "source": [
    "In this case, I'm writing a put. Money is earned from the sale. But then delta-hedging the position by buying the underlying stock will also represent a cost."
   ]
  },
  {
   "cell_type": "code",
   "execution_count": 23,
   "metadata": {},
   "outputs": [
    {
     "data": {
      "text/html": [
       "<div>\n",
       "<style scoped>\n",
       "    .dataframe tbody tr th:only-of-type {\n",
       "        vertical-align: middle;\n",
       "    }\n",
       "\n",
       "    .dataframe tbody tr th {\n",
       "        vertical-align: top;\n",
       "    }\n",
       "\n",
       "    .dataframe thead th {\n",
       "        text-align: right;\n",
       "    }\n",
       "</style>\n",
       "<table border=\"1\" class=\"dataframe\">\n",
       "  <thead>\n",
       "    <tr style=\"text-align: right;\">\n",
       "      <th></th>\n",
       "      <th>Step</th>\n",
       "      <th>S</th>\n",
       "      <th>T</th>\n",
       "      <th>Option Price</th>\n",
       "      <th>Options purchased</th>\n",
       "      <th>Options Held</th>\n",
       "      <th>Options Value</th>\n",
       "      <th>Delta</th>\n",
       "      <th>Stocks Purchased</th>\n",
       "      <th>Stocks Held</th>\n",
       "      <th>Stock Value</th>\n",
       "      <th>Cash Value</th>\n",
       "      <th>interest</th>\n",
       "      <th>Portfolio Value</th>\n",
       "    </tr>\n",
       "  </thead>\n",
       "  <tbody>\n",
       "    <tr>\n",
       "      <th>0</th>\n",
       "      <td>0.0</td>\n",
       "      <td>62.77</td>\n",
       "      <td>0.247222</td>\n",
       "      <td>0.982919</td>\n",
       "      <td>-1.0</td>\n",
       "      <td>-1.0</td>\n",
       "      <td>-0.982919</td>\n",
       "      <td>-0.390788</td>\n",
       "      <td>-39.078849</td>\n",
       "      <td>-39.078849</td>\n",
       "      <td>-2452.979334</td>\n",
       "      <td>2453.962253</td>\n",
       "      <td>0.0</td>\n",
       "      <td>0.0</td>\n",
       "    </tr>\n",
       "  </tbody>\n",
       "</table>\n",
       "</div>"
      ],
      "text/plain": [
       "   Step      S         T  Option Price  Options purchased  Options Held  \\\n",
       "0   0.0  62.77  0.247222      0.982919               -1.0          -1.0   \n",
       "\n",
       "   Options Value     Delta  Stocks Purchased  Stocks Held  Stock Value  \\\n",
       "0      -0.982919 -0.390788        -39.078849   -39.078849 -2452.979334   \n",
       "\n",
       "    Cash Value  interest  Portfolio Value  \n",
       "0  2453.962253       0.0              0.0  "
      ]
     },
     "execution_count": 23,
     "metadata": {},
     "output_type": "execute_result"
    }
   ],
   "source": [
    "contract_size = 100\n",
    "\n",
    "stock_prices = np.array(delta_hedge_df.price[:N])\n",
    "deltas = np.array(delta_hedge_df.delta[:N])\n",
    "option_prices, stocks_purchased, stocks_held = np.zeros(N), np.zeros(N), np.zeros(N)\n",
    "stock_values, options_purchased, options_held = np.zeros(N), np.zeros(N), np.zeros(N)\n",
    "options_value, interest_earned, cash_positions = np.zeros(N), np.zeros(N), np.zeros(N)\n",
    "portfolio_values = np.zeros(N)\n",
    "\n",
    "option_prices[0], stocks_purchased[0], stocks_held[0] = put_bsm_price, deltas[0] * contract_size, deltas[0] * contract_size\n",
    "stock_values[0], options_purchased[0], options_held[0] = stocks_held[0] * S0, -1, -1\n",
    "options_value[0] = options_held[0] * option_prices[0]\n",
    "cash_positions[0] = - stocks_purchased[0] * S0 - options_purchased[0] * option_prices[0]\n",
    "portfolio_values[0] = cash_positions[0] + options_value[0] + stock_values[0]\n",
    "\n",
    "columns = ['Step', 'S', 'T', 'Option Price','Options purchased', 'Options Held', 'Options Value',\n",
    "           'Delta', 'Stocks Purchased', 'Stocks Held', 'Stock Value',\n",
    "           'Cash Value', 'interest', 'Portfolio Value']\n",
    "results_df = pd.DataFrame(columns=columns)\n",
    "results_df.loc[0] = [0, S0, T, option_prices[0], options_purchased[0], options_held[0], options_value[0],\n",
    "                     deltas[0], stocks_purchased[0], stocks_held[0], stock_values[0],\n",
    "                     cash_positions[0], 0, portfolio_values[0]]\n",
    "results_df.head()\n"
   ]
  },
  {
   "cell_type": "code",
   "execution_count": 24,
   "metadata": {},
   "outputs": [
    {
     "data": {
      "image/png": "[encoded data removed]",
      "text/plain": [
       "<Figure size 1400x800 with 1 Axes>"
      ]
     },
     "metadata": {},
     "output_type": "display_data"
    }
   ],
   "source": [
    "for i in range(1, N):\n",
    "    S = stock_prices[i]\n",
    "    T_i = T - i * T/N\n",
    "    option_prices[i] = bsm_put(S, K, T_i, sigma, rf, q)\n",
    "    \n",
    "    stocks_purchased[i] = deltas[i] * contract_size - stocks_held[i-1]\n",
    "    stocks_held[i] = stocks_held[i - 1] + stocks_purchased[i]\n",
    "    stock_values[i] = stocks_held[i] * S\n",
    "    \n",
    "    options_purchased[i] = 0\n",
    "    options_held[i] = options_held[i-1] + options_purchased[i]\n",
    "    options_value[i] = options_held[i] * option_prices[i]\n",
    "    \n",
    "    interest_earned[i] = cash_positions[i - 1] * np.exp(rf*T/N) - cash_positions[i-1]\n",
    "    cash_positions[i] = cash_positions[i - 1] + interest_earned[i] - stocks_purchased[i] * S\n",
    "    \n",
    "    portfolio_values[i] = cash_positions[i] + stock_values[i] + options_value[i]\n",
    "\n",
    "results_df = pd.DataFrame({\n",
    "    'Step': np.arange(N),\n",
    "    'S': stock_prices,\n",
    "    'T': T - np.arange(N) * T/N,\n",
    "    'Option Price': option_prices,\n",
    "    'Options Purchased': options_purchased,\n",
    "    'Options Held': options_held,\n",
    "    'Options Value': options_value,\n",
    "    'Delta': deltas,\n",
    "    'Stocks Purchased': stocks_purchased,\n",
    "    'Stocks Held': stocks_held,\n",
    "    'Stock Value': stock_values,\n",
    "    'Cash Value': cash_positions,\n",
    "    'Interest Earned': interest_earned,\n",
    "    'Portfolio Value': portfolio_values,\n",
    "})\n",
    "\n",
    "# Plot the results\n",
    "plt.figure(figsize=(14, 8))\n",
    "plt.plot(options_value, label='Option Value')\n",
    "plt.plot(stock_values, label='Stock Value (Delta * Stock Price)')\n",
    "plt.plot(cash_positions, label='Cash Position')\n",
    "plt.plot(portfolio_values, label='Portfolio Value')\n",
    "plt.title('Delta-Hedged Portfolio Through Time')\n",
    "plt.xlabel('Time Steps')\n",
    "plt.ylabel('Value')\n",
    "plt.legend()\n",
    "plt.show()"
   ]
  },
  {
   "cell_type": "markdown",
   "metadata": {},
   "source": [
    "## 3) Estimate the fair value of the call & put option contracts using Monte Carlo (MC) simulation methods considering 50000 simulations"
   ]
  },
  {
   "cell_type": "markdown",
   "metadata": {},
   "source": [
    "To estimate the fair values of the call & put option contracts using Monte Carlo (MC) simulation, we need to take in consideration two things:\n",
    "- We're dealing with a dividend paying stock\n",
    "- This an American Option contract, so it can be exercised before maturity\n",
    "\n",
    "This means that our simulation will have to:\n",
    "- On dividend paying days, discount price at time t by dividend\n",
    "- On each point estimate if exercising the option at time t generates more value than holding it to t+1\n",
    "\n",
    "The last point can be achieved through the Least-Squares Monte Carlo Algorithm (LSM) of Longstaff-Schwartz (2001), using the a regression estimator to determine if it's better to exercise it at that point in time.\n",
    "We can then tweak the code to compute the day, and if it matches a dividend paying day, discount the stock price.\n",
    "\n",
    "To improve accuracy, we can use antithetic variates.\n",
    "\n",
    "----------------------"
   ]
  },
  {
   "cell_type": "markdown",
   "metadata": {},
   "source": [
    "First, we need to generate dividend paying dates. We don't know when the stock is going to pay dividends, but knowing it's usual frequency we can grab the last dividend date and simulate from there:"
   ]
  },
  {
   "cell_type": "code",
   "execution_count": 25,
   "metadata": {},
   "outputs": [
    {
     "data": {
      "text/plain": [
       "[]"
      ]
     },
     "execution_count": 25,
     "metadata": {},
     "output_type": "execute_result"
    }
   ],
   "source": [
    "def get_dividend_dates(ticker: yf.Ticker, frequency_months: int, starting_date: datetime, ending_date: datetime):\n",
    "    \"\"\"\n",
    "    Generates array of possible future dividend dates\n",
    "    ticker - yf.Ticker object of stock\n",
    "    frequency_months - how many months per year dividend is paid\n",
    "    starting_date - when it starts (dividend dates cannot be before this)\n",
    "    ending_date - when it ends (dividend dates cannot be after this)\n",
    "    \"\"\"\n",
    "    dividend_history = ticker.dividends\n",
    "    if dividend_history.empty: return []\n",
    "    \n",
    "    #get last dividend\n",
    "    last_dividend_date = dividend_history.index[-1].tz_localize(None) \n",
    "    dividend_frequency = pd.DateOffset(months=frequency_months)\n",
    "    \n",
    "    #generate future dividends\n",
    "    future_dividend_dates = []\n",
    "    next_dividend_date = last_dividend_date + dividend_frequency\n",
    "    \n",
    "    #generate future dividend dates until the ending_date\n",
    "    while next_dividend_date <= ending_date:\n",
    "        if next_dividend_date >= starting_date:\n",
    "            future_dividend_dates.append(next_dividend_date)\n",
    "        next_dividend_date += dividend_frequency\n",
    "    \n",
    "    return future_dividend_dates\n",
    "    \n",
    "dividend_dates = get_dividend_dates(ticker=ticker, frequency_months=4, starting_date=today_date, ending_date=closest_date_dt_obj)\n",
    "dividend_dates"
   ]
  },
  {
   "cell_type": "markdown",
   "metadata": {},
   "source": [
    "In our case, there's no dividends in contract..."
   ]
  },
  {
   "cell_type": "code",
   "execution_count": 26,
   "metadata": {},
   "outputs": [],
   "source": [
    "def monte_carlo_option_pricing_with_dividends(S0, K, T, r, sigma, runs, steps, div_dates, q, starting_date, is_call = True):\n",
    "    dt = T/steps #time in years by steps\n",
    "    df = np.exp(-r * dt) #discounting factor\n",
    "    \n",
    "    #set initial values (matrix & initial values)\n",
    "    S = np.zeros((steps+1, runs))\n",
    "    S[0, :] = S0\n",
    "    \n",
    "    #current date for dividend payoff\n",
    "    current_date = starting_date\n",
    "    \n",
    "    #simulate prices\n",
    "    for t in range(1, steps + 1):\n",
    "        #draw random value\n",
    "        ran = np.random.standard_normal(int(runs / 2))\n",
    "        #antithetic variates\n",
    "        ran = np.concatenate((ran, -ran))\n",
    "        #correct first & second moments, respectively\n",
    "        ran = ran - np.mean(ran)\n",
    "        ran = ran / np.std(ran)\n",
    "        #the gbm formula (average * dt + sigma * sqrt(dt))\n",
    "        nudt = (r - 0.5 * sigma**2) * dt\n",
    "        sdt = sigma * np.sqrt(dt) * ran\n",
    "        S[t, :] = S[t-1, :] * np.exp(nudt + sdt)\n",
    "        #if dividend date, discount dividend yield\n",
    "        for div_date in div_dates:\n",
    "            if current_date.date() == div_date.date():\n",
    "                S[t, :] = S[t, :] * np.exp(-q*dt)\n",
    "                break\n",
    "        #increment current date\n",
    "        current_date = current_date + timedelta(days=1)\n",
    "        #if saturday or sunday, add 2 or 1 - respectively\n",
    "        if current_date.weekday() == 5:\n",
    "            current_date = current_date + timedelta(days=2)\n",
    "        elif current_date.weekday() == 6:\n",
    "            current_date = current_date + timedelta(days=1)\n",
    "    \n",
    "    #compute payoff\n",
    "    p = np.maximum(S - K, 0) if is_call else np.maximum(K - S, 0)\n",
    "    #value matrix of payoffs\n",
    "    V = np.zeros_like(p)\n",
    "    V[-1] = p[-1]\n",
    "    \n",
    "    #Use LSM to compute exercise decision (backwards in time)\n",
    "    for t in range(steps-1, 0, -1):\n",
    "        #fit regression of stock prices to discounted payoffs\n",
    "        reg = np.polyfit(S[t, :], V[t+1, :] * df, 5)\n",
    "        #determine regression (future) payoffs starting at this point\n",
    "        reg_val = np.polyval(reg, S[t, :])\n",
    "        #compute best values given regression\n",
    "        V[t, :] = np.where(p[t, :] > reg_val, p[t, :], V[t+1, :] * df)\n",
    "    \n",
    "    #return actual LSM estimator value (average value of discounted payoffs by simulations)\n",
    "    return np.sum(V[1, :] * df) / runs"
   ]
  },
  {
   "cell_type": "markdown",
   "metadata": {},
   "source": [
    "### a) Compare price results with those obtained using the Black-Scholes formula. Compare both to actual market results."
   ]
  },
  {
   "cell_type": "markdown",
   "metadata": {},
   "source": [
    "We can now apply it to our Monte Carlo simulation with 50000 simulations to check it against BSM and market values, doing a step for each day of the tenor of the contract..."
   ]
  },
  {
   "cell_type": "code",
   "execution_count": 27,
   "metadata": {},
   "outputs": [
    {
     "name": "stdout",
     "output_type": "stream",
     "text": [
      "Call MC price: 1.9113515023324463\n",
      "Put MC price: 0.9416319099533971\n",
      "------------------------------\n",
      "Call BSM price: 1.8229190731457834\n",
      "Put BSM price: 0.9829190731457906\n",
      "------------------------------\n",
      "Market call price: 2.24\n",
      "Market put price: 1.4\n"
     ]
    }
   ],
   "source": [
    "#ignore warnings\n",
    "import warnings\n",
    "warnings.filterwarnings(\"ignore\", category=UserWarning)\n",
    "\n",
    "call_mc_price = monte_carlo_option_pricing_with_dividends(S0=S0, K=K, T=T, r=rf, sigma=sigma, runs=50000, steps=N, div_dates=dividend_dates, q=q, starting_date=today_date, is_call=True)\n",
    "print(\"Call MC price:\", call_mc_price)\n",
    "put_mc_price = monte_carlo_option_pricing_with_dividends(S0=S0, K=K, T=T, r=rf, sigma=sigma, runs=50000, steps=N, div_dates=dividend_dates, q=q, starting_date=today_date, is_call=False)\n",
    "print(\"Put MC price:\", put_mc_price)\n",
    "print(\"------------------------------\")\n",
    "print(\"Call BSM price:\", call_bsm_price)\n",
    "print(\"Put BSM price:\", put_bsm_price)\n",
    "print(\"------------------------------\")\n",
    "print(\"Market call price:\", closest_call.lastPrice)\n",
    "print(\"Market put price:\", closest_put.lastPrice)"
   ]
  },
  {
   "cell_type": "markdown",
   "metadata": {},
   "source": [
    "### b) Estimate the Greeks (e.g., delta, gamma, theta, ....) using MC simulation for both contracts. "
   ]
  },
  {
   "cell_type": "markdown",
   "metadata": {},
   "source": [
    "To estimate the greeks, using a Monte Carlo simulation, we can use the formulas:\n",
    "\n",
    "- Delta = Change in option value / Change in underlying value\n",
    "- Gamma = C(S+ΔS,K,T,σ,r)−2C(S,K,T,σ,r)+C(S−ΔS,K,T,σ,r)/(ΔS)^2\n",
    "- Vega = Change in value / Change in volatility\n",
    "- Theta = Change in value / Change in time\n",
    "- Rho = Change in value / Change in interest rates"
   ]
  },
  {
   "cell_type": "code",
   "execution_count": 45,
   "metadata": {},
   "outputs": [],
   "source": [
    "def monte_carlo_option_delta(S0, K, T, r, sigma, runs, steps, div_dates, q, starting_date, is_call=True):\n",
    "    epsilon_price = 1e-2 * S0\n",
    "    return (monte_carlo_option_pricing_with_dividends(S0 + epsilon_price, K, T, r, sigma, runs, steps, div_dates, q, starting_date, is_call) -\n",
    "            monte_carlo_option_pricing_with_dividends(S0 - epsilon_price, K, T, r, sigma, runs, steps, div_dates, q, starting_date, is_call)) / (2 * epsilon_price)\n",
    "\n",
    "def monte_carlo_option_gamma(S0, K, T, r, sigma, runs, steps, div_dates, q, starting_date, is_call=True):\n",
    "    epsilon_price = 1e-2 * S0\n",
    "    return (monte_carlo_option_pricing_with_dividends(S0 + epsilon_price, K, T, r, sigma, runs, steps, div_dates, q, starting_date, is_call) -\n",
    "            2 * monte_carlo_option_pricing_with_dividends(S0, K, T, r, sigma, runs, steps, div_dates, q, starting_date, is_call) +\n",
    "            monte_carlo_option_pricing_with_dividends(S0 - epsilon_price, K, T, r, sigma, runs, steps, div_dates, q, starting_date, is_call)) / (epsilon_price**2)\n",
    "\n",
    "def monte_carlo_option_vega(S0, K, T, r, sigma, runs, steps, div_dates, q, starting_date, is_call=True):\n",
    "    #calculate option price at current volatility\n",
    "    price_current = monte_carlo_option_pricing_with_dividends(S0, K, T, r, sigma, runs, steps, div_dates, q, starting_date, is_call)\n",
    "    #calculate option price after small volatility perturbation\n",
    "    price_perturbed = monte_carlo_option_pricing_with_dividends(S0, K, T, r, sigma + 0.01, runs, steps, div_dates, q, starting_date, is_call)\n",
    "    #calculate Vega\n",
    "    return (price_perturbed - price_current) / 0.01\n",
    "\n",
    "def monte_carlo_option_theta(S0, K, T, r, sigma, runs, steps, div_dates, q, starting_date, is_call=True):\n",
    "    #normal price    \n",
    "    price_current = monte_carlo_option_pricing_with_dividends(S0, K, T, r, sigma, runs, steps, div_dates, q, starting_date, is_call)\n",
    "    #spiked price\n",
    "    price_perturbed = monte_carlo_option_pricing_with_dividends(S0, K, T - 1/365, r, sigma, runs, steps, div_dates, q, starting_date, is_call)\n",
    "    # Calculate Theta\n",
    "    theta = (price_current - price_perturbed) / (1/365)\n",
    "    return theta * -1 if theta > 0 else theta\n",
    "\n",
    "def monte_carlo_option_rho(S0, K, T, r, sigma, runs, steps, div_dates, q, starting_date, is_call=True):\n",
    "    #calculate option price at current risk-free rate\n",
    "    price_current = monte_carlo_option_pricing_with_dividends(S0, K, T, r, sigma, runs, steps, div_dates, q, starting_date, is_call)\n",
    "    #calculate option price after small risk-free rate perturbation\n",
    "    price_perturbed = monte_carlo_option_pricing_with_dividends(S0, K, T, r + 0.01, sigma, runs, steps, div_dates, q, starting_date, is_call)\n",
    "    #calculate Rho\n",
    "    return (price_perturbed - price_current) / 0.01"
   ]
  },
  {
   "cell_type": "code",
   "execution_count": 48,
   "metadata": {},
   "outputs": [
    {
     "name": "stdout",
     "output_type": "stream",
     "text": [
      "Delta Call MC: 0.6343087137502577\n",
      "Gamma Call MC: 0.09387112238011033\n",
      "Theta Call MC: -5.387341358532158\n",
      "Vega Call MC: 11.006845447532498\n",
      "Rho Call MC: 7.726150801937681\n",
      "-----------------------------------------------------------\n",
      "Delta Put MC: -0.3985253609511769\n",
      "Gamma Put MC: 0.14165066663554066\n",
      "Theta Put MC: -3.501271495994731\n",
      "Vega Put MC: 11.238818188802357\n",
      "Rho Put MC: -4.710191136379827\n"
     ]
    }
   ],
   "source": [
    "print(\"Delta Call MC:\", monte_carlo_option_delta(S0=S0, K=K, T=T, r=rf, sigma=sigma, runs=100000, steps=N, div_dates=dividend_dates, q=q, starting_date=today_date, is_call=True))\n",
    "print(\"Gamma Call MC:\", monte_carlo_option_gamma(S0=S0, K=K, T=T, r=rf, sigma=sigma, runs=100000, steps=N, div_dates=dividend_dates, q=q, starting_date=today_date, is_call=True))\n",
    "print(\"Theta Call MC:\", monte_carlo_option_theta(S0=S0, K=K, T=T, r=rf, sigma=sigma, runs=100000, steps=N, div_dates=dividend_dates, q=q, starting_date=today_date, is_call=True))\n",
    "print(\"Vega Call MC:\", monte_carlo_option_vega(S0=S0, K=K, T=T, r=rf, sigma=sigma, runs=100000, steps=N, div_dates=dividend_dates, q=q, starting_date=today_date, is_call=True))\n",
    "print(\"Rho Call MC:\", monte_carlo_option_rho(S0=S0, K=K, T=T, r=rf, sigma=sigma, runs=100000, steps=N, div_dates=dividend_dates, q=q, starting_date=today_date, is_call=True))\n",
    "print(\"-----------------------------------------------------------\")\n",
    "print(\"Delta Put MC:\", monte_carlo_option_delta(S0=S0, K=K, T=T, r=rf, sigma=sigma, runs=100000, steps=N, div_dates=dividend_dates, q=q, starting_date=today_date, is_call=False))\n",
    "print(\"Gamma Put MC:\", monte_carlo_option_gamma(S0=S0, K=K, T=T, r=rf, sigma=sigma, runs=100000, steps=N, div_dates=dividend_dates, q=q, starting_date=today_date, is_call=False))\n",
    "print(\"Theta Put MC:\", monte_carlo_option_theta(S0=S0, K=K, T=T, r=rf, sigma=sigma, runs=100000, steps=N, div_dates=dividend_dates, q=q, starting_date=today_date, is_call=False))\n",
    "print(\"Vega Put MC:\", monte_carlo_option_vega(S0=S0, K=K, T=T, r=rf, sigma=sigma, runs=100000, steps=N, div_dates=dividend_dates, q=q, starting_date=today_date, is_call=False))\n",
    "print(\"Rho Put MC:\", monte_carlo_option_rho(S0=S0, K=K, T=T, r=rf, sigma=sigma, runs=100000, steps=N, div_dates=dividend_dates, q=q, starting_date=today_date, is_call=False))"
   ]
  },
  {
   "cell_type": "markdown",
   "metadata": {},
   "source": [
    "We can now compare against the BSM greeks:"
   ]
  },
  {
   "cell_type": "code",
   "execution_count": 30,
   "metadata": {},
   "outputs": [
    {
     "data": {
      "text/html": [
       "<div>\n",
       "<style scoped>\n",
       "    .dataframe tbody tr th:only-of-type {\n",
       "        vertical-align: middle;\n",
       "    }\n",
       "\n",
       "    .dataframe tbody tr th {\n",
       "        vertical-align: top;\n",
       "    }\n",
       "\n",
       "    .dataframe thead th {\n",
       "        text-align: right;\n",
       "    }\n",
       "</style>\n",
       "<table border=\"1\" class=\"dataframe\">\n",
       "  <thead>\n",
       "    <tr style=\"text-align: right;\">\n",
       "      <th></th>\n",
       "      <th>call</th>\n",
       "      <th>put</th>\n",
       "    </tr>\n",
       "  </thead>\n",
       "  <tbody>\n",
       "    <tr>\n",
       "      <th>delta</th>\n",
       "      <td>0.604999</td>\n",
       "      <td>-0.391185</td>\n",
       "    </tr>\n",
       "    <tr>\n",
       "      <th>gamma</th>\n",
       "      <td>0.110382</td>\n",
       "      <td>0.110382</td>\n",
       "    </tr>\n",
       "    <tr>\n",
       "      <th>theta</th>\n",
       "      <td>-3.971527</td>\n",
       "      <td>-1.710759</td>\n",
       "    </tr>\n",
       "    <tr>\n",
       "      <th>vega</th>\n",
       "      <td>12.018963</td>\n",
       "      <td>12.018963</td>\n",
       "    </tr>\n",
       "    <tr>\n",
       "      <th>rho</th>\n",
       "      <td>9.036408</td>\n",
       "      <td>-6.386203</td>\n",
       "    </tr>\n",
       "  </tbody>\n",
       "</table>\n",
       "</div>"
      ],
      "text/plain": [
       "            call        put\n",
       "delta   0.604999  -0.391185\n",
       "gamma   0.110382   0.110382\n",
       "theta  -3.971527  -1.710759\n",
       "vega   12.018963  12.018963\n",
       "rho     9.036408  -6.386203"
      ]
     },
     "execution_count": 30,
     "metadata": {},
     "output_type": "execute_result"
    }
   ],
   "source": [
    "greeks_df"
   ]
  }
 ],
 "metadata": {
  "kernelspec": {
   "display_name": "Python 3",
   "language": "python",
   "name": "python3"
  },
  "language_info": {
   "codemirror_mode": {
    "name": "ipython",
    "version": 3
   },
   "file_extension": ".py",
   "mimetype": "text/x-python",
   "name": "python",
   "nbconvert_exporter": "python",
   "pygments_lexer": "ipython3",
   "version": "3.10.3"
  }
 },
 "nbformat": 4,
 "nbformat_minor": 2
}
