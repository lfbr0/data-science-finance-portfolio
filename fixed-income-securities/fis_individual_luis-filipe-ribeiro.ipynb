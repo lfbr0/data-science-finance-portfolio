{
 "cells": [
  {
   "cell_type": "markdown",
   "metadata": {},
   "source": [
    "# Fixed Income Securities - 2023/2024\n",
    "## Data Science for Finance\n",
    "### Luís Filipe Ribeiro (nº20231536)\n",
    "\n",
    "---------------------------------------"
   ]
  },
  {
   "cell_type": "markdown",
   "metadata": {},
   "source": [
    "We start by defining some common functions that will be useful throughout this notebook..."
   ]
  },
  {
   "cell_type": "code",
   "execution_count": 51,
   "metadata": {},
   "outputs": [
    {
     "name": "stdout",
     "output_type": "stream",
     "text": [
      "Requirement already satisfied: quantlib in c:\\users\\rluis\\appdata\\local\\anaconda3\\lib\\site-packages (1.32)\n",
      "Requirement already satisfied: jpype1 in c:\\users\\rluis\\appdata\\local\\anaconda3\\lib\\site-packages (1.5.0)\n",
      "Requirement already satisfied: packaging in c:\\users\\rluis\\appdata\\local\\anaconda3\\lib\\site-packages (from jpype1) (23.1)\n",
      "Requirement already satisfied: tabula-py in c:\\users\\rluis\\appdata\\local\\anaconda3\\lib\\site-packages (2.9.0)\n",
      "Requirement already satisfied: pandas>=0.25.3 in c:\\users\\rluis\\appdata\\local\\anaconda3\\lib\\site-packages (from tabula-py) (2.0.3)\n",
      "Requirement already satisfied: numpy in c:\\users\\rluis\\appdata\\local\\anaconda3\\lib\\site-packages (from tabula-py) (1.24.3)\n",
      "Requirement already satisfied: distro in c:\\users\\rluis\\appdata\\local\\anaconda3\\lib\\site-packages (from tabula-py) (1.9.0)\n",
      "Requirement already satisfied: python-dateutil>=2.8.2 in c:\\users\\rluis\\appdata\\local\\anaconda3\\lib\\site-packages (from pandas>=0.25.3->tabula-py) (2.8.2)\n",
      "Requirement already satisfied: pytz>=2020.1 in c:\\users\\rluis\\appdata\\local\\anaconda3\\lib\\site-packages (from pandas>=0.25.3->tabula-py) (2023.3.post1)\n",
      "Requirement already satisfied: tzdata>=2022.1 in c:\\users\\rluis\\appdata\\local\\anaconda3\\lib\\site-packages (from pandas>=0.25.3->tabula-py) (2023.3)\n",
      "Requirement already satisfied: six>=1.5 in c:\\users\\rluis\\appdata\\local\\anaconda3\\lib\\site-packages (from python-dateutil>=2.8.2->pandas>=0.25.3->tabula-py) (1.16.0)\n"
     ]
    }
   ],
   "source": [
    "!pip install quantlib\n",
    "!pip install jpype1\n",
    "!pip install tabula-py\n",
    "\n",
    "import QuantLib as ql\n",
    "import numpy as np\n",
    "import pandas as pd\n",
    "\n",
    "def count_days(d1: ql.Date, d2: ql.Date, basis = ql.Actual360()):\n",
    "    return basis.dayCount(d1, d2)-1\n",
    "\n",
    "def count_years(d1: ql.Date, d2: ql.Date, basis = ql.Actual360()):\n",
    "    return basis.yearFraction(d1, d2)\n",
    "\n",
    "def get_coupon_dates(issue_date:ql.Date, maturity_date: ql.Date, frequency: int):\n",
    "    schedule = ql.Schedule(\n",
    "        issue_date, \n",
    "        maturity_date, \n",
    "        ql.Period(frequency),\n",
    "        ql.TARGET(),\n",
    "        ql.Following,\n",
    "        ql.Following,\n",
    "        ql.DateGeneration.Backward, \n",
    "        False\n",
    "    )\n",
    "    return [dt for dt in schedule][1:]"
   ]
  },
  {
   "cell_type": "markdown",
   "metadata": {},
   "source": [
    "## a) Build the complete yield curve using interpolation techniques."
   ]
  },
  {
   "cell_type": "code",
   "execution_count": 52,
   "metadata": {},
   "outputs": [
    {
     "name": "stderr",
     "output_type": "stream",
     "text": [
      "C:\\Users\\rluis\\AppData\\Local\\Temp\\ipykernel_10004\\1766425719.py:13: UserWarning: The argument 'infer_datetime_format' is deprecated and will be removed in a future version. A strict version of it is now the default, see https://pandas.pydata.org/pdeps/0004-consistent-to-datetime-parsing.html. You can safely remove this argument.\n",
      "  .apply(lambda d: pd.to_datetime(d, infer_datetime_format=True)) \\\n",
      "C:\\Users\\rluis\\AppData\\Local\\Temp\\ipykernel_10004\\1766425719.py:13: UserWarning: Parsing dates in %d/%m/%Y format when dayfirst=False (the default) was specified. Pass `dayfirst=True` or specify a format to silence this warning.\n",
      "  .apply(lambda d: pd.to_datetime(d, infer_datetime_format=True)) \\\n"
     ]
    },
    {
     "data": {
      "text/html": [
       "<div>\n",
       "<style scoped>\n",
       "    .dataframe tbody tr th:only-of-type {\n",
       "        vertical-align: middle;\n",
       "    }\n",
       "\n",
       "    .dataframe tbody tr th {\n",
       "        vertical-align: top;\n",
       "    }\n",
       "\n",
       "    .dataframe thead th {\n",
       "        text-align: right;\n",
       "    }\n",
       "</style>\n",
       "<table border=\"1\" class=\"dataframe\">\n",
       "  <thead>\n",
       "    <tr style=\"text-align: right;\">\n",
       "      <th></th>\n",
       "      <th>maturity</th>\n",
       "      <th>rate</th>\n",
       "      <th>theta</th>\n",
       "    </tr>\n",
       "  </thead>\n",
       "  <tbody>\n",
       "    <tr>\n",
       "      <th>0</th>\n",
       "      <td>April 15th, 2019</td>\n",
       "      <td>-0.003640</td>\n",
       "      <td>0.002778</td>\n",
       "    </tr>\n",
       "    <tr>\n",
       "      <th>1</th>\n",
       "      <td>April 23rd, 2019</td>\n",
       "      <td>-0.003780</td>\n",
       "      <td>0.025000</td>\n",
       "    </tr>\n",
       "    <tr>\n",
       "      <th>2</th>\n",
       "      <td>May 16th, 2019</td>\n",
       "      <td>-0.003670</td>\n",
       "      <td>0.088889</td>\n",
       "    </tr>\n",
       "    <tr>\n",
       "      <th>3</th>\n",
       "      <td>July 16th, 2019</td>\n",
       "      <td>-0.003100</td>\n",
       "      <td>0.255556</td>\n",
       "    </tr>\n",
       "    <tr>\n",
       "      <th>4</th>\n",
       "      <td>October 16th, 2019</td>\n",
       "      <td>-0.002320</td>\n",
       "      <td>0.505556</td>\n",
       "    </tr>\n",
       "    <tr>\n",
       "      <th>5</th>\n",
       "      <td>April 16th, 2020</td>\n",
       "      <td>-0.002270</td>\n",
       "      <td>1.005556</td>\n",
       "    </tr>\n",
       "    <tr>\n",
       "      <th>6</th>\n",
       "      <td>October 16th, 2020</td>\n",
       "      <td>-0.001910</td>\n",
       "      <td>1.505556</td>\n",
       "    </tr>\n",
       "    <tr>\n",
       "      <th>7</th>\n",
       "      <td>April 16th, 2021</td>\n",
       "      <td>-0.001992</td>\n",
       "      <td>2.005556</td>\n",
       "    </tr>\n",
       "    <tr>\n",
       "      <th>8</th>\n",
       "      <td>April 19th, 2022</td>\n",
       "      <td>-0.001305</td>\n",
       "      <td>3.013889</td>\n",
       "    </tr>\n",
       "    <tr>\n",
       "      <th>9</th>\n",
       "      <td>April 17th, 2023</td>\n",
       "      <td>-0.000398</td>\n",
       "      <td>4.008333</td>\n",
       "    </tr>\n",
       "    <tr>\n",
       "      <th>10</th>\n",
       "      <td>April 16th, 2024</td>\n",
       "      <td>0.000553</td>\n",
       "      <td>5.005556</td>\n",
       "    </tr>\n",
       "    <tr>\n",
       "      <th>11</th>\n",
       "      <td>April 16th, 2025</td>\n",
       "      <td>0.001543</td>\n",
       "      <td>6.005556</td>\n",
       "    </tr>\n",
       "    <tr>\n",
       "      <th>12</th>\n",
       "      <td>April 16th, 2026</td>\n",
       "      <td>0.002565</td>\n",
       "      <td>7.005556</td>\n",
       "    </tr>\n",
       "    <tr>\n",
       "      <th>13</th>\n",
       "      <td>April 16th, 2027</td>\n",
       "      <td>0.003573</td>\n",
       "      <td>8.005556</td>\n",
       "    </tr>\n",
       "    <tr>\n",
       "      <th>14</th>\n",
       "      <td>April 18th, 2028</td>\n",
       "      <td>0.004582</td>\n",
       "      <td>9.011111</td>\n",
       "    </tr>\n",
       "    <tr>\n",
       "      <th>15</th>\n",
       "      <td>April 16th, 2029</td>\n",
       "      <td>0.005524</td>\n",
       "      <td>10.005556</td>\n",
       "    </tr>\n",
       "    <tr>\n",
       "      <th>16</th>\n",
       "      <td>April 16th, 2030</td>\n",
       "      <td>0.006385</td>\n",
       "      <td>11.005556</td>\n",
       "    </tr>\n",
       "    <tr>\n",
       "      <th>17</th>\n",
       "      <td>April 16th, 2031</td>\n",
       "      <td>0.007165</td>\n",
       "      <td>12.005556</td>\n",
       "    </tr>\n",
       "    <tr>\n",
       "      <th>18</th>\n",
       "      <td>April 17th, 2034</td>\n",
       "      <td>0.009010</td>\n",
       "      <td>15.008333</td>\n",
       "    </tr>\n",
       "    <tr>\n",
       "      <th>19</th>\n",
       "      <td>April 18th, 2039</td>\n",
       "      <td>0.010710</td>\n",
       "      <td>20.011111</td>\n",
       "    </tr>\n",
       "    <tr>\n",
       "      <th>20</th>\n",
       "      <td>April 19th, 2044</td>\n",
       "      <td>0.011340</td>\n",
       "      <td>25.013889</td>\n",
       "    </tr>\n",
       "    <tr>\n",
       "      <th>21</th>\n",
       "      <td>April 20th, 2049</td>\n",
       "      <td>0.011520</td>\n",
       "      <td>30.016667</td>\n",
       "    </tr>\n",
       "    <tr>\n",
       "      <th>22</th>\n",
       "      <td>April 16th, 2054</td>\n",
       "      <td>0.011500</td>\n",
       "      <td>35.005556</td>\n",
       "    </tr>\n",
       "    <tr>\n",
       "      <th>23</th>\n",
       "      <td>April 16th, 2059</td>\n",
       "      <td>0.011402</td>\n",
       "      <td>40.005556</td>\n",
       "    </tr>\n",
       "    <tr>\n",
       "      <th>24</th>\n",
       "      <td>April 16th, 2064</td>\n",
       "      <td>0.011310</td>\n",
       "      <td>45.005556</td>\n",
       "    </tr>\n",
       "    <tr>\n",
       "      <th>25</th>\n",
       "      <td>April 16th, 2069</td>\n",
       "      <td>0.011210</td>\n",
       "      <td>50.005556</td>\n",
       "    </tr>\n",
       "  </tbody>\n",
       "</table>\n",
       "</div>"
      ],
      "text/plain": [
       "              maturity      rate      theta\n",
       "0     April 15th, 2019 -0.003640   0.002778\n",
       "1     April 23rd, 2019 -0.003780   0.025000\n",
       "2       May 16th, 2019 -0.003670   0.088889\n",
       "3      July 16th, 2019 -0.003100   0.255556\n",
       "4   October 16th, 2019 -0.002320   0.505556\n",
       "5     April 16th, 2020 -0.002270   1.005556\n",
       "6   October 16th, 2020 -0.001910   1.505556\n",
       "7     April 16th, 2021 -0.001992   2.005556\n",
       "8     April 19th, 2022 -0.001305   3.013889\n",
       "9     April 17th, 2023 -0.000398   4.008333\n",
       "10    April 16th, 2024  0.000553   5.005556\n",
       "11    April 16th, 2025  0.001543   6.005556\n",
       "12    April 16th, 2026  0.002565   7.005556\n",
       "13    April 16th, 2027  0.003573   8.005556\n",
       "14    April 18th, 2028  0.004582   9.011111\n",
       "15    April 16th, 2029  0.005524  10.005556\n",
       "16    April 16th, 2030  0.006385  11.005556\n",
       "17    April 16th, 2031  0.007165  12.005556\n",
       "18    April 17th, 2034  0.009010  15.008333\n",
       "19    April 18th, 2039  0.010710  20.011111\n",
       "20    April 19th, 2044  0.011340  25.013889\n",
       "21    April 20th, 2049  0.011520  30.016667\n",
       "22    April 16th, 2054  0.011500  35.005556\n",
       "23    April 16th, 2059  0.011402  40.005556\n",
       "24    April 16th, 2064  0.011310  45.005556\n",
       "25    April 16th, 2069  0.011210  50.005556"
      ]
     },
     "execution_count": 52,
     "metadata": {},
     "output_type": "execute_result"
    }
   ],
   "source": [
    "from tabula.io import read_pdf\n",
    "\n",
    "yield_curve_df = read_pdf(\"project.pdf\", pages='5')[0]\n",
    "\n",
    "# rename columns to actually be useful later on...\n",
    "yield_curve_df.rename(columns = {\"Maturity Date\":\"maturity\", \"Market Rate (%)\": \"rate\"}, inplace=True)\n",
    "\n",
    "#Store valuation date as variable\n",
    "valuation_date = ql.Date(14,4,2019)\n",
    "\n",
    "# apply some operations for changhing index and rate (divide by 100 to be used as-is)\n",
    "yield_curve_df['maturity'] = yield_curve_df['maturity'] \\\n",
    "    .apply(lambda d: pd.to_datetime(d, infer_datetime_format=True)) \\\n",
    "    .apply(lambda d: ql.Date(d.day, d.month, d.year))\n",
    "\n",
    "yield_curve_df['rate'] = yield_curve_df['rate'].apply(lambda r: r/100)\n",
    "\n",
    "\n",
    "yield_curve_df['theta'] = yield_curve_df['maturity'] \\\n",
    "    .apply(lambda maturity: count_years(valuation_date, maturity, ql.Thirty360(ql.Thirty360.BondBasis)))\n",
    "\n",
    "\n",
    "yield_curve_df"
   ]
  },
  {
   "cell_type": "markdown",
   "metadata": {},
   "source": [
    "Now that we have a formatted table. We can use a very simple and readily available method like Cubic Spline to interpolate the yield curve, where the rate is y and theta (maturity versus observation date) is x"
   ]
  },
  {
   "cell_type": "code",
   "execution_count": 53,
   "metadata": {},
   "outputs": [],
   "source": [
    "from scipy.interpolate import CubicSpline\n",
    "import matplotlib.pyplot as plt\n",
    "\n",
    "#cubic spline the yield curve\n",
    "yield_curve = CubicSpline(yield_curve_df.theta, yield_curve_df.rate)\n",
    "\n",
    "#a later useful function to return parallel shifted yield curve receiving shift in bps\n",
    "def get_shifted_yield_curve(shift_bps):\n",
    "    shift_pct = shift_bps / 10000 #1 bps = 1/100 % = 1/10000\n",
    "    return CubicSpline(yield_curve_df.theta, yield_curve_df.rate + shift_pct)"
   ]
  },
  {
   "cell_type": "code",
   "execution_count": 54,
   "metadata": {},
   "outputs": [
    {
     "data": {
      "image/png": "[encoded data removed]",
      "text/plain": [
       "<Figure size 640x480 with 1 Axes>"
      ]
     },
     "metadata": {},
     "output_type": "display_data"
    }
   ],
   "source": [
    "time_axis = np.arange(0, max(yield_curve_df.theta)+1)\n",
    "rate_axis = yield_curve(time_axis)\n",
    "\n",
    "plt.scatter(yield_curve_df.theta, yield_curve_df.rate * 100, label='Bloomberg Data', color='red');\n",
    "plt.plot(time_axis, rate_axis * 100, label='Interpolation line', color='blue');\n",
    "plt.xlabel(f'Maturity (Years from valuation {valuation_date})')\n",
    "plt.ylabel('Yield rate (%)')\n",
    "plt.title('Yield Curve Cubic Spline Interpolation')\n",
    "plt.legend()\n",
    "plt.show()"
   ]
  },
  {
   "cell_type": "markdown",
   "metadata": {},
   "source": [
    "## b) Compute the accrued interest in the fixed and floating legs of the contract."
   ]
  },
  {
   "cell_type": "markdown",
   "metadata": {},
   "source": [
    "We assume T+0 lag on settlement date (settlement date = trade date) and notional value of 10 million euros. We can start by defining common vars:"
   ]
  },
  {
   "cell_type": "code",
   "execution_count": 55,
   "metadata": {},
   "outputs": [],
   "source": [
    "settlement_date = ql.Date(15, 4, 2019)\n",
    "issue_date = ql.Date(19,1, 2007)\n",
    "maturity_date = ql.Date(19, 1, 2032)\n",
    "face_value = 10e6\n",
    "\n",
    "#swap rate = fixed leg rate\n",
    "#swap rate != swap par rate\n",
    "fixed_rate = 0.05982 / 100\n",
    "float_rate = -0.236 / 100"
   ]
  },
  {
   "cell_type": "markdown",
   "metadata": {},
   "source": [
    "### Fixed leg"
   ]
  },
  {
   "cell_type": "code",
   "execution_count": 56,
   "metadata": {},
   "outputs": [
    {
     "name": "stdout",
     "output_type": "stream",
     "text": [
      "Coupon dates:\n",
      " 0     January 21st, 2019\n",
      "1     January 20th, 2020\n",
      "2     January 19th, 2021\n",
      "3     January 19th, 2022\n",
      "4     January 19th, 2023\n",
      "5     January 19th, 2024\n",
      "6     January 20th, 2025\n",
      "7     January 19th, 2026\n",
      "8     January 19th, 2027\n",
      "9     January 19th, 2028\n",
      "10    January 19th, 2029\n",
      "11    January 21st, 2030\n",
      "12    January 20th, 2031\n",
      "13    January 19th, 2032\n",
      "dtype: object\n",
      "Accrued days since last coupon: 83\n",
      "Fixed Leg Accrued Interest: 0.0138% of face value or 1379.1833333333336 EUR\n"
     ]
    }
   ],
   "source": [
    "fixed_coupon_dates = [\n",
    "    date for date in get_coupon_dates(issue_date, maturity_date, 1) \n",
    "    if date.year() >= settlement_date.year()\n",
    "]\n",
    "\n",
    "print(\"Coupon dates:\\n\", pd.Series(fixed_coupon_dates))\n",
    "\n",
    "#30U/360 basis\n",
    "fixed_leg_basis = ql.Thirty360(ql.Thirty360.BondBasis)\n",
    "\n",
    "#Frequency of coupons\n",
    "fixed_frequency = 1\n",
    "\n",
    "#Accrued days since last coupon\n",
    "fixed_ai_u = count_days(fixed_coupon_dates[0], settlement_date, fixed_leg_basis)\n",
    "fixed_ai_w = 360\n",
    "print(f\"Accrued days since last coupon: {fixed_ai_u}\")\n",
    "\n",
    "#Compute accrued interest (AI)\n",
    "fixed_ai = fixed_rate/fixed_frequency * fixed_ai_u/fixed_ai_w\n",
    "print(f\"Fixed Leg Accrued Interest: {round(fixed_ai*100, 4)}% of face value or {fixed_ai * face_value} EUR\")"
   ]
  },
  {
   "cell_type": "markdown",
   "metadata": {},
   "source": [
    "### Floating leg"
   ]
  },
  {
   "cell_type": "code",
   "execution_count": 57,
   "metadata": {},
   "outputs": [
    {
     "name": "stdout",
     "output_type": "stream",
     "text": [
      "Coupon dates:\n",
      " 0     January 21st, 2019\n",
      "1        July 19th, 2019\n",
      "2     January 20th, 2020\n",
      "3        July 20th, 2020\n",
      "4     January 19th, 2021\n",
      "5        July 19th, 2021\n",
      "6     January 19th, 2022\n",
      "7        July 19th, 2022\n",
      "8     January 19th, 2023\n",
      "9        July 19th, 2023\n",
      "10    January 19th, 2024\n",
      "11       July 19th, 2024\n",
      "12    January 20th, 2025\n",
      "13       July 21st, 2025\n",
      "14    January 19th, 2026\n",
      "15       July 20th, 2026\n",
      "16    January 19th, 2027\n",
      "17       July 19th, 2027\n",
      "18    January 19th, 2028\n",
      "19       July 19th, 2028\n",
      "20    January 19th, 2029\n",
      "21       July 19th, 2029\n",
      "22    January 21st, 2030\n",
      "23       July 19th, 2030\n",
      "24    January 20th, 2031\n",
      "25       July 21st, 2031\n",
      "26    January 19th, 2032\n",
      "dtype: object\n",
      "Accrued days since last coupon: 83\n",
      "Float Leg Accrued Interest: 0.05441% of face value or 5441.1111111111095 EUR\n"
     ]
    }
   ],
   "source": [
    "float_coupon_dates = [\n",
    "    date for date in get_coupon_dates(issue_date, maturity_date, 2) \n",
    "    if date.year() >= settlement_date.year()\n",
    "]\n",
    "\n",
    "print(\"Coupon dates:\\n\", pd.Series(float_coupon_dates))\n",
    "\n",
    "#30U/360 basis\n",
    "float_leg_basis = ql.Actual360()\n",
    "\n",
    "#Frequency of coupons\n",
    "float_frequency = 2\n",
    "\n",
    "#Accrued days since last coupon\n",
    "float_ai_u = count_days(float_coupon_dates[0], settlement_date, float_leg_basis)\n",
    "float_ai_w = 360/float_frequency\n",
    "print(f\"Accrued days since last coupon: {float_ai_u}\")\n",
    "\n",
    "#Compute accrued interest (AI)\n",
    "float_ai = np.abs(float_rate)/float_frequency * float_ai_u/float_ai_w\n",
    "print(f\"Float Leg Accrued Interest: {round(float_ai*100, 5)}% of face value or {float_ai * face_value} EUR\")"
   ]
  },
  {
   "cell_type": "markdown",
   "metadata": {},
   "source": [
    "## c) Calculate the clean (principal) and dirty market value of the swap contract"
   ]
  },
  {
   "cell_type": "markdown",
   "metadata": {},
   "source": [
    "We can start by computing the discount factors which will be the similar for both legs, as well as the coupon dates."
   ]
  },
  {
   "cell_type": "code",
   "execution_count": 58,
   "metadata": {},
   "outputs": [
    {
     "data": {
      "image/png": "[encoded data removed]",
      "text/plain": [
       "<Figure size 640x480 with 1 Axes>"
      ]
     },
     "metadata": {},
     "output_type": "display_data"
    }
   ],
   "source": [
    "all_coupon_dates = float_coupon_dates[1:]\n",
    "\n",
    "def get_discount_factors(yield_curve = yield_curve, payment_freq = 1):\n",
    "    step = 1/float_frequency #since floating has twice as many cashflows\n",
    "    n_cashflows = len(all_coupon_dates) * step\n",
    "\n",
    "    #time array / cashflow number\n",
    "    t = np.arange(step, n_cashflows + step, step)\n",
    "    r = yield_curve(t)/payment_freq\n",
    "    return 1/((r + 1) ** t)\n",
    "\n",
    "def plot_discount_factors(discount_factors):\n",
    "    plt.figure();\n",
    "    plt.plot(\n",
    "        [count_years(settlement_date, d) for d in all_coupon_dates],\n",
    "        discount_factors\n",
    "    );\n",
    "    plt.title('Discount factor by maturity');\n",
    "    plt.xlabel('Maturity (years)');\n",
    "    plt.ylabel('Discount Factor');\n",
    "\n",
    "plot_discount_factors(get_discount_factors(yield_curve))"
   ]
  },
  {
   "cell_type": "markdown",
   "metadata": {},
   "source": [
    "### Fixed leg"
   ]
  },
  {
   "cell_type": "markdown",
   "metadata": {},
   "source": [
    "By the formula, we'll start by the first leg - the fixed leg. \n",
    "Since the first coupon will be short, we will calculate the short discount:"
   ]
  },
  {
   "cell_type": "code",
   "execution_count": 59,
   "metadata": {},
   "outputs": [
    {
     "name": "stdout",
     "output_type": "stream",
     "text": [
      "We will received 76.111% of the first fixed leg coupon\n"
     ]
    }
   ],
   "source": [
    "fixed_short_discount = count_days(settlement_date, fixed_coupon_dates[1], fixed_leg_basis)/360\n",
    "print(f\"We will received {round(fixed_short_discount * 100, 3)}% of the first fixed leg coupon\")"
   ]
  },
  {
   "cell_type": "markdown",
   "metadata": {},
   "source": [
    "For the actual bond calculation:"
   ]
  },
  {
   "cell_type": "code",
   "execution_count": 60,
   "metadata": {},
   "outputs": [
    {
     "data": {
      "text/html": [
       "<div>\n",
       "<style scoped>\n",
       "    .dataframe tbody tr th:only-of-type {\n",
       "        vertical-align: middle;\n",
       "    }\n",
       "\n",
       "    .dataframe tbody tr th {\n",
       "        vertical-align: top;\n",
       "    }\n",
       "\n",
       "    .dataframe thead th {\n",
       "        text-align: right;\n",
       "    }\n",
       "</style>\n",
       "<table border=\"1\" class=\"dataframe\">\n",
       "  <thead>\n",
       "    <tr style=\"text-align: right;\">\n",
       "      <th></th>\n",
       "      <th>discount_factors</th>\n",
       "      <th>discounted_cashflows</th>\n",
       "    </tr>\n",
       "  </thead>\n",
       "  <tbody>\n",
       "    <tr>\n",
       "      <th>January 20th, 2020</th>\n",
       "      <td>1.002275</td>\n",
       "      <td>4.563325e+03</td>\n",
       "    </tr>\n",
       "    <tr>\n",
       "      <th>January 19th, 2021</th>\n",
       "      <td>1.003995</td>\n",
       "      <td>6.005899e+03</td>\n",
       "    </tr>\n",
       "    <tr>\n",
       "      <th>January 19th, 2022</th>\n",
       "      <td>1.003967</td>\n",
       "      <td>6.005733e+03</td>\n",
       "    </tr>\n",
       "    <tr>\n",
       "      <th>January 19th, 2023</th>\n",
       "      <td>1.001622</td>\n",
       "      <td>5.991701e+03</td>\n",
       "    </tr>\n",
       "    <tr>\n",
       "      <th>January 19th, 2024</th>\n",
       "      <td>0.997269</td>\n",
       "      <td>5.965664e+03</td>\n",
       "    </tr>\n",
       "    <tr>\n",
       "      <th>January 20th, 2025</th>\n",
       "      <td>0.990828</td>\n",
       "      <td>5.927134e+03</td>\n",
       "    </tr>\n",
       "    <tr>\n",
       "      <th>January 19th, 2026</th>\n",
       "      <td>0.982267</td>\n",
       "      <td>5.875919e+03</td>\n",
       "    </tr>\n",
       "    <tr>\n",
       "      <th>January 19th, 2027</th>\n",
       "      <td>0.971917</td>\n",
       "      <td>5.814010e+03</td>\n",
       "    </tr>\n",
       "    <tr>\n",
       "      <th>January 19th, 2028</th>\n",
       "      <td>0.959781</td>\n",
       "      <td>5.741410e+03</td>\n",
       "    </tr>\n",
       "    <tr>\n",
       "      <th>January 19th, 2029</th>\n",
       "      <td>0.946449</td>\n",
       "      <td>5.661659e+03</td>\n",
       "    </tr>\n",
       "    <tr>\n",
       "      <th>January 21st, 2030</th>\n",
       "      <td>0.932429</td>\n",
       "      <td>5.577792e+03</td>\n",
       "    </tr>\n",
       "    <tr>\n",
       "      <th>January 20th, 2031</th>\n",
       "      <td>0.917939</td>\n",
       "      <td>5.491110e+03</td>\n",
       "    </tr>\n",
       "    <tr>\n",
       "      <th>January 19th, 2032</th>\n",
       "      <td>0.903264</td>\n",
       "      <td>9.038046e+06</td>\n",
       "    </tr>\n",
       "  </tbody>\n",
       "</table>\n",
       "</div>"
      ],
      "text/plain": [
       "                    discount_factors  discounted_cashflows\n",
       "January 20th, 2020          1.002275          4.563325e+03\n",
       "January 19th, 2021          1.003995          6.005899e+03\n",
       "January 19th, 2022          1.003967          6.005733e+03\n",
       "January 19th, 2023          1.001622          5.991701e+03\n",
       "January 19th, 2024          0.997269          5.965664e+03\n",
       "January 20th, 2025          0.990828          5.927134e+03\n",
       "January 19th, 2026          0.982267          5.875919e+03\n",
       "January 19th, 2027          0.971917          5.814010e+03\n",
       "January 19th, 2028          0.959781          5.741410e+03\n",
       "January 19th, 2029          0.946449          5.661659e+03\n",
       "January 21st, 2030          0.932429          5.577792e+03\n",
       "January 20th, 2031          0.917939          5.491110e+03\n",
       "January 19th, 2032          0.903264          9.038046e+06"
      ]
     },
     "execution_count": 60,
     "metadata": {},
     "output_type": "execute_result"
    }
   ],
   "source": [
    "def get_fixed_df(rate = fixed_rate, yield_curve = yield_curve):\n",
    "    coupon_dates = all_coupon_dates[1::2]\n",
    "    discount_factors = get_discount_factors(yield_curve)[1::2]\n",
    "    cashflows = discount_factors * rate * face_value\n",
    "    \n",
    "    #specific cases\n",
    "    cashflows[0] *= fixed_short_discount\n",
    "    cashflows[-1] += (face_value * discount_factors[-1])\n",
    "\n",
    "    return pd.DataFrame(data = {\n",
    "        'discount_factors' : discount_factors,\n",
    "        'discounted_cashflows': cashflows\n",
    "    }, index = coupon_dates)\n",
    "    \n",
    "\n",
    "fixed_df = get_fixed_df()\n",
    "fixed_df"
   ]
  },
  {
   "cell_type": "markdown",
   "metadata": {},
   "source": [
    "We can now compute the prices:"
   ]
  },
  {
   "cell_type": "code",
   "execution_count": 61,
   "metadata": {},
   "outputs": [
    {
     "name": "stdout",
     "output_type": "stream",
     "text": [
      "Fixed Leg PV (Clean): 9106667.141241258 EUR or 91.06667141241257\n",
      "Fixed Leg NPV (Dirty): 9108046.324574592 EUR or 91.08046324574592\n"
     ]
    }
   ],
   "source": [
    "fixed_pv = fixed_df.discounted_cashflows.sum()\n",
    "fixed_npv = fixed_pv + fixed_ai*face_value\n",
    "\n",
    "print(f\"Fixed Leg PV (Clean): {fixed_pv} EUR or {fixed_pv/face_value * 100}\")\n",
    "print(f\"Fixed Leg NPV (Dirty): {fixed_npv} EUR or {fixed_npv/face_value * 100}\")"
   ]
  },
  {
   "cell_type": "markdown",
   "metadata": {},
   "source": [
    "### Floating leg"
   ]
  },
  {
   "cell_type": "markdown",
   "metadata": {},
   "source": [
    "We start by also start by calculating the short discount (which should be the same):"
   ]
  },
  {
   "cell_type": "code",
   "execution_count": 62,
   "metadata": {},
   "outputs": [
    {
     "name": "stdout",
     "output_type": "stream",
     "text": [
      "We will received 76.111% of the first fixed leg coupon\n"
     ]
    }
   ],
   "source": [
    "float_short_discount = count_days(settlement_date, fixed_coupon_dates[1], float_leg_basis)/180\n",
    "print(f\"We will received {round(fixed_short_discount * 100, 3)}% of the first fixed leg coupon\")"
   ]
  },
  {
   "cell_type": "markdown",
   "metadata": {},
   "source": [
    "We'll have to compute the forward rates:"
   ]
  },
  {
   "cell_type": "code",
   "execution_count": 63,
   "metadata": {},
   "outputs": [
    {
     "data": {
      "text/html": [
       "<div>\n",
       "<style scoped>\n",
       "    .dataframe tbody tr th:only-of-type {\n",
       "        vertical-align: middle;\n",
       "    }\n",
       "\n",
       "    .dataframe tbody tr th {\n",
       "        vertical-align: top;\n",
       "    }\n",
       "\n",
       "    .dataframe thead th {\n",
       "        text-align: right;\n",
       "    }\n",
       "</style>\n",
       "<table border=\"1\" class=\"dataframe\">\n",
       "  <thead>\n",
       "    <tr style=\"text-align: right;\">\n",
       "      <th></th>\n",
       "      <th>discount_factors</th>\n",
       "      <th>forward_rates</th>\n",
       "      <th>discounted_cashflows</th>\n",
       "    </tr>\n",
       "  </thead>\n",
       "  <tbody>\n",
       "    <tr>\n",
       "      <th>July 19th, 2019</th>\n",
       "      <td>1.000583</td>\n",
       "      <td>-0.002360</td>\n",
       "      <td>-1.797270e+04</td>\n",
       "    </tr>\n",
       "    <tr>\n",
       "      <th>January 20th, 2020</th>\n",
       "      <td>1.001136</td>\n",
       "      <td>-0.000552</td>\n",
       "      <td>-5.527655e+03</td>\n",
       "    </tr>\n",
       "    <tr>\n",
       "      <th>July 20th, 2020</th>\n",
       "      <td>1.001436</td>\n",
       "      <td>-0.000300</td>\n",
       "      <td>-2.999789e+03</td>\n",
       "    </tr>\n",
       "    <tr>\n",
       "      <th>January 19th, 2021</th>\n",
       "      <td>1.001995</td>\n",
       "      <td>-0.000557</td>\n",
       "      <td>-5.584538e+03</td>\n",
       "    </tr>\n",
       "    <tr>\n",
       "      <th>July 19th, 2021</th>\n",
       "      <td>1.002256</td>\n",
       "      <td>-0.000260</td>\n",
       "      <td>-2.610444e+03</td>\n",
       "    </tr>\n",
       "    <tr>\n",
       "      <th>January 19th, 2022</th>\n",
       "      <td>1.001981</td>\n",
       "      <td>0.000274</td>\n",
       "      <td>2.745552e+03</td>\n",
       "    </tr>\n",
       "    <tr>\n",
       "      <th>July 19th, 2022</th>\n",
       "      <td>1.001486</td>\n",
       "      <td>0.000494</td>\n",
       "      <td>4.951179e+03</td>\n",
       "    </tr>\n",
       "    <tr>\n",
       "      <th>January 19th, 2023</th>\n",
       "      <td>1.000810</td>\n",
       "      <td>0.000675</td>\n",
       "      <td>6.755557e+03</td>\n",
       "    </tr>\n",
       "    <tr>\n",
       "      <th>July 19th, 2023</th>\n",
       "      <td>0.999862</td>\n",
       "      <td>0.000949</td>\n",
       "      <td>9.485002e+03</td>\n",
       "    </tr>\n",
       "    <tr>\n",
       "      <th>January 19th, 2024</th>\n",
       "      <td>0.998633</td>\n",
       "      <td>0.001230</td>\n",
       "      <td>1.228479e+04</td>\n",
       "    </tr>\n",
       "    <tr>\n",
       "      <th>July 19th, 2024</th>\n",
       "      <td>0.997150</td>\n",
       "      <td>0.001488</td>\n",
       "      <td>1.483380e+04</td>\n",
       "    </tr>\n",
       "    <tr>\n",
       "      <th>January 20th, 2025</th>\n",
       "      <td>0.995402</td>\n",
       "      <td>0.001756</td>\n",
       "      <td>1.748376e+04</td>\n",
       "    </tr>\n",
       "    <tr>\n",
       "      <th>July 21st, 2025</th>\n",
       "      <td>0.993372</td>\n",
       "      <td>0.002043</td>\n",
       "      <td>2.029271e+04</td>\n",
       "    </tr>\n",
       "    <tr>\n",
       "      <th>January 19th, 2026</th>\n",
       "      <td>0.991088</td>\n",
       "      <td>0.002305</td>\n",
       "      <td>2.284467e+04</td>\n",
       "    </tr>\n",
       "    <tr>\n",
       "      <th>July 20th, 2026</th>\n",
       "      <td>0.988583</td>\n",
       "      <td>0.002534</td>\n",
       "      <td>2.504944e+04</td>\n",
       "    </tr>\n",
       "    <tr>\n",
       "      <th>January 19th, 2027</th>\n",
       "      <td>0.985846</td>\n",
       "      <td>0.002776</td>\n",
       "      <td>2.736797e+04</td>\n",
       "    </tr>\n",
       "    <tr>\n",
       "      <th>July 19th, 2027</th>\n",
       "      <td>0.982860</td>\n",
       "      <td>0.003038</td>\n",
       "      <td>2.986039e+04</td>\n",
       "    </tr>\n",
       "    <tr>\n",
       "      <th>January 19th, 2028</th>\n",
       "      <td>0.979661</td>\n",
       "      <td>0.003265</td>\n",
       "      <td>3.199010e+04</td>\n",
       "    </tr>\n",
       "    <tr>\n",
       "      <th>July 19th, 2028</th>\n",
       "      <td>0.976303</td>\n",
       "      <td>0.003440</td>\n",
       "      <td>3.358524e+04</td>\n",
       "    </tr>\n",
       "    <tr>\n",
       "      <th>January 19th, 2029</th>\n",
       "      <td>0.972819</td>\n",
       "      <td>0.003581</td>\n",
       "      <td>3.483292e+04</td>\n",
       "    </tr>\n",
       "    <tr>\n",
       "      <th>July 19th, 2029</th>\n",
       "      <td>0.969238</td>\n",
       "      <td>0.003695</td>\n",
       "      <td>3.581268e+04</td>\n",
       "    </tr>\n",
       "    <tr>\n",
       "      <th>January 21st, 2030</th>\n",
       "      <td>0.965570</td>\n",
       "      <td>0.003799</td>\n",
       "      <td>3.668002e+04</td>\n",
       "    </tr>\n",
       "    <tr>\n",
       "      <th>July 19th, 2030</th>\n",
       "      <td>0.961824</td>\n",
       "      <td>0.003895</td>\n",
       "      <td>3.746446e+04</td>\n",
       "    </tr>\n",
       "    <tr>\n",
       "      <th>January 20th, 2031</th>\n",
       "      <td>0.958018</td>\n",
       "      <td>0.003972</td>\n",
       "      <td>3.805590e+04</td>\n",
       "    </tr>\n",
       "    <tr>\n",
       "      <th>July 21st, 2031</th>\n",
       "      <td>0.954175</td>\n",
       "      <td>0.004028</td>\n",
       "      <td>3.843454e+04</td>\n",
       "    </tr>\n",
       "    <tr>\n",
       "      <th>January 19th, 2032</th>\n",
       "      <td>0.950308</td>\n",
       "      <td>0.004069</td>\n",
       "      <td>9.541746e+06</td>\n",
       "    </tr>\n",
       "  </tbody>\n",
       "</table>\n",
       "</div>"
      ],
      "text/plain": [
       "                    discount_factors  forward_rates  discounted_cashflows\n",
       "July 19th, 2019             1.000583      -0.002360         -1.797270e+04\n",
       "January 20th, 2020          1.001136      -0.000552         -5.527655e+03\n",
       "July 20th, 2020             1.001436      -0.000300         -2.999789e+03\n",
       "January 19th, 2021          1.001995      -0.000557         -5.584538e+03\n",
       "July 19th, 2021             1.002256      -0.000260         -2.610444e+03\n",
       "January 19th, 2022          1.001981       0.000274          2.745552e+03\n",
       "July 19th, 2022             1.001486       0.000494          4.951179e+03\n",
       "January 19th, 2023          1.000810       0.000675          6.755557e+03\n",
       "July 19th, 2023             0.999862       0.000949          9.485002e+03\n",
       "January 19th, 2024          0.998633       0.001230          1.228479e+04\n",
       "July 19th, 2024             0.997150       0.001488          1.483380e+04\n",
       "January 20th, 2025          0.995402       0.001756          1.748376e+04\n",
       "July 21st, 2025             0.993372       0.002043          2.029271e+04\n",
       "January 19th, 2026          0.991088       0.002305          2.284467e+04\n",
       "July 20th, 2026             0.988583       0.002534          2.504944e+04\n",
       "January 19th, 2027          0.985846       0.002776          2.736797e+04\n",
       "July 19th, 2027             0.982860       0.003038          2.986039e+04\n",
       "January 19th, 2028          0.979661       0.003265          3.199010e+04\n",
       "July 19th, 2028             0.976303       0.003440          3.358524e+04\n",
       "January 19th, 2029          0.972819       0.003581          3.483292e+04\n",
       "July 19th, 2029             0.969238       0.003695          3.581268e+04\n",
       "January 21st, 2030          0.965570       0.003799          3.668002e+04\n",
       "July 19th, 2030             0.961824       0.003895          3.746446e+04\n",
       "January 20th, 2031          0.958018       0.003972          3.805590e+04\n",
       "July 21st, 2031             0.954175       0.004028          3.843454e+04\n",
       "January 19th, 2032          0.950308       0.004069          9.541746e+06"
      ]
     },
     "execution_count": 63,
     "metadata": {},
     "output_type": "execute_result"
    }
   ],
   "source": [
    "def get_float_df(yield_curve = yield_curve):\n",
    "    coupon_dates = all_coupon_dates\n",
    "    discount_factors = get_discount_factors(yield_curve, 2)\n",
    "\n",
    "    #compute forwards\n",
    "    forward_rates = np.ones( len(coupon_dates) )\n",
    "    for i in range( len(coupon_dates) - 1):\n",
    "        forward_rates[i+1] = discount_factors[i]/discount_factors[i+1] - 1\n",
    "    forward_rates[0] = float_rate\n",
    "\n",
    "    cashflows = discount_factors * forward_rates * face_value\n",
    "    #specific cases\n",
    "    cashflows[0] *= fixed_short_discount\n",
    "    cashflows[-1] += (face_value * discount_factors[-1])\n",
    "\n",
    "    return pd.DataFrame(data = {\n",
    "        'discount_factors' : discount_factors,\n",
    "        'forward_rates': forward_rates,\n",
    "        'discounted_cashflows': cashflows\n",
    "    }, index = coupon_dates)\n",
    "    \n",
    "\n",
    "float_df = get_float_df(yield_curve)\n",
    "float_df"
   ]
  },
  {
   "cell_type": "markdown",
   "metadata": {},
   "source": [
    "Now we can plot the Euribor 6M forward rates:"
   ]
  },
  {
   "cell_type": "code",
   "execution_count": 64,
   "metadata": {},
   "outputs": [
    {
     "data": {
      "image/png": "[encoded data removed]",
      "text/plain": [
       "<Figure size 640x480 with 1 Axes>"
      ]
     },
     "metadata": {},
     "output_type": "display_data"
    }
   ],
   "source": [
    "def plot_float_forward_rates(float_df):\n",
    "    plt.title(\"Euribor 6M Forward Rates over time\");\n",
    "    plt.plot(\n",
    "        [pd.Timestamp(dt.year(), dt.month(), dt.dayOfMonth()) for dt in float_df.index],\n",
    "        float_df['forward_rates'] * 100\n",
    "    );\n",
    "    plt.xlabel('Time');\n",
    "    plt.ylabel('Euribor Rate (%)');\n",
    "\n",
    "plot_float_forward_rates(float_df)"
   ]
  },
  {
   "cell_type": "code",
   "execution_count": 65,
   "metadata": {},
   "outputs": [
    {
     "name": "stdout",
     "output_type": "stream",
     "text": [
      "Float Leg PV (Clean): 9987861.610044172 EUR or 99.87861610044172\n",
      "Float Leg NPV (Dirty): 9993302.721155284 EUR or 99.93302721155284\n"
     ]
    }
   ],
   "source": [
    "float_pv = float_df.discounted_cashflows.sum()\n",
    "float_npv = float_pv + float_ai*face_value\n",
    "\n",
    "print(f\"Float Leg PV (Clean): {float_pv} EUR or {float_pv/face_value * 100}\")\n",
    "print(f\"Float Leg NPV (Dirty): {float_npv} EUR or {float_npv/face_value * 100}\")"
   ]
  },
  {
   "cell_type": "markdown",
   "metadata": {},
   "source": [
    "### Swap market values"
   ]
  },
  {
   "cell_type": "code",
   "execution_count": 66,
   "metadata": {},
   "outputs": [
    {
     "name": "stdout",
     "output_type": "stream",
     "text": [
      "Swap Clean Price (Principal): -881194.468802914 EUR\n",
      "Swap Dirty Price (NPV): -874374.1743584696 EUR\n"
     ]
    }
   ],
   "source": [
    "def get_swap_clean_dirty_values(swap_rate = fixed_rate, yield_curve=yield_curve):  \n",
    "    #pvs\n",
    "    fixed_pv = get_fixed_df(swap_rate, yield_curve).discounted_cashflows.sum()\n",
    "    float_pv = get_float_df(yield_curve).discounted_cashflows.sum()\n",
    "    \n",
    "    #total accrued\n",
    "    total_accrued = (fixed_ai + float_ai) * face_value\n",
    "\n",
    "    #values\n",
    "    swap_clean_value = fixed_pv - float_pv\n",
    "    swap_dirty_value = swap_clean_value + total_accrued\n",
    "\n",
    "    return (swap_clean_value, swap_dirty_value)\n",
    "\n",
    "swap_clean, swap_dirty = get_swap_clean_dirty_values(fixed_rate, yield_curve)\n",
    "print(f\"Swap Clean Price (Principal): {swap_clean} EUR\")\n",
    "print(f\"Swap Dirty Price (NPV): {swap_dirty} EUR\")"
   ]
  },
  {
   "cell_type": "markdown",
   "metadata": {},
   "source": [
    "## d) Estimate the net present value of the contract"
   ]
  },
  {
   "cell_type": "markdown",
   "metadata": {},
   "source": [
    "The Net Present Value of the contract is simply the dirty market value of the swap, which includes both accrued interests."
   ]
  },
  {
   "cell_type": "code",
   "execution_count": 67,
   "metadata": {},
   "outputs": [
    {
     "name": "stdout",
     "output_type": "stream",
     "text": [
      "Swap NPV: -874374.1743584696 EUR\n"
     ]
    }
   ],
   "source": [
    "print(f\"Swap NPV: {get_swap_clean_dirty_values(fixed_rate, yield_curve)[1]} EUR\")"
   ]
  },
  {
   "cell_type": "markdown",
   "metadata": {},
   "source": [
    "## e) Estimate the swap par rate"
   ]
  },
  {
   "cell_type": "markdown",
   "metadata": {},
   "source": [
    "We can do it computationally, passing the swap value function as a paremeter with initial guess of fixed rate until we reach zero:"
   ]
  },
  {
   "cell_type": "code",
   "execution_count": 68,
   "metadata": {},
   "outputs": [
    {
     "name": "stdout",
     "output_type": "stream",
     "text": [
      "If swap par rate is 0.7719210345459566% then Swap value = 0.0\n"
     ]
    }
   ],
   "source": [
    "from scipy.optimize import fsolve\n",
    "\n",
    "swap_par_rate = fsolve(lambda r: get_swap_clean_dirty_values(r)[0], fixed_rate)[0]\n",
    "\n",
    "print(f\"If swap par rate is {swap_par_rate*100}% then Swap value = {get_swap_clean_dirty_values(swap_par_rate)[0]}\")"
   ]
  },
  {
   "cell_type": "markdown",
   "metadata": {},
   "source": [
    "Graphically we can deduce the solution as well:"
   ]
  },
  {
   "cell_type": "code",
   "execution_count": 69,
   "metadata": {},
   "outputs": [
    {
     "data": {
      "image/png": "[encoded data removed]",
      "text/plain": [
       "<Figure size 640x480 with 1 Axes>"
      ]
     },
     "metadata": {},
     "output_type": "display_data"
    }
   ],
   "source": [
    "plt.title(\"Swap Market Value by Swap Rate\");\n",
    "plt.plot(\n",
    "    np.arange(-0.05,0.05,1/10000), \n",
    "    np.array([get_swap_clean_dirty_values(r)[0] for r in np.arange(-0.05,0.05,1/10000)])\n",
    ");\n",
    "plt.scatter([swap_par_rate], [get_swap_clean_dirty_values(swap_par_rate)[0]], color='red');\n",
    "plt.xlabel('Swap Rate');\n",
    "plt.ylabel('Clean Swap Market Value (Millions of EUR)');\n",
    "plt.xticks(np.arange(-0.05,0.05, 0.005), rotation=45);\n",
    "plt.grid(True);"
   ]
  },
  {
   "cell_type": "markdown",
   "metadata": {},
   "source": [
    "## f) Estimate the following IRS Greeks: present value of a one basis point shift (PV01), DV01, Gamma and discuss the interest rate risk of the contract"
   ]
  },
  {
   "cell_type": "markdown",
   "metadata": {},
   "source": [
    "We can start to see what happens with various shifts in yield curve:"
   ]
  },
  {
   "cell_type": "code",
   "execution_count": 70,
   "metadata": {},
   "outputs": [
    {
     "data": {
      "image/png": "[encoded data removed]",
      "text/plain": [
       "<Figure size 640x480 with 1 Axes>"
      ]
     },
     "metadata": {},
     "output_type": "display_data"
    }
   ],
   "source": [
    "plt.figure();\n",
    "plt.plot(\n",
    "    np.arange(-100, 100, 1),\n",
    "    [\n",
    "        get_swap_clean_dirty_values(fixed_rate, get_shifted_yield_curve(bps_shift))[0] \n",
    "        for bps_shift in np.arange(-100, 100, 1)\n",
    "    ]\n",
    ");\n",
    "plt.title(\"Swap Contract Clean Price (Principal) per shift in interest rate\");\n",
    "plt.xlabel(\"Basis Points Shift\");\n",
    "plt.ylabel(\"Contract Value (Millions of EUR)\");"
   ]
  },
  {
   "cell_type": "markdown",
   "metadata": {},
   "source": [
    "This validates the literature since we can see because of our float short position (receiving fixed), we profit off of interest rate down-shifts and lose money on up-shifts since the floating leg will be more valuable."
   ]
  },
  {
   "cell_type": "markdown",
   "metadata": {},
   "source": [
    "### PV01 - Simple interest rate hike shock"
   ]
  },
  {
   "cell_type": "code",
   "execution_count": 71,
   "metadata": {},
   "outputs": [
    {
     "data": {
      "text/plain": [
       "11444.318733830005"
      ]
     },
     "execution_count": 71,
     "metadata": {},
     "output_type": "execute_result"
    }
   ],
   "source": [
    "def get_pv01():\n",
    "    p = get_swap_clean_dirty_values(fixed_rate, yield_curve)[0]\n",
    "    p_new = get_swap_clean_dirty_values(fixed_rate, get_shifted_yield_curve(1))[0]\n",
    "    return p-p_new\n",
    "\n",
    "get_pv01()"
   ]
  },
  {
   "cell_type": "markdown",
   "metadata": {},
   "source": [
    "### DV01 - Dollar Value Change"
   ]
  },
  {
   "cell_type": "code",
   "execution_count": 72,
   "metadata": {},
   "outputs": [
    {
     "data": {
      "text/plain": [
       "11452.42677406501"
      ]
     },
     "execution_count": 72,
     "metadata": {},
     "output_type": "execute_result"
    }
   ],
   "source": [
    "def get_dv01():\n",
    "    #similar to bloomberg calculations\n",
    "    p_up = get_swap_clean_dirty_values(fixed_rate, get_shifted_yield_curve(1))[0]\n",
    "    p = get_swap_clean_dirty_values(fixed_rate, yield_curve)[0]\n",
    "    p_down = get_swap_clean_dirty_values(fixed_rate, get_shifted_yield_curve(-1))[0]\n",
    "    return (p_down-p_up)/2\n",
    "\n",
    "get_dv01()"
   ]
  },
  {
   "cell_type": "markdown",
   "metadata": {},
   "source": [
    "### Gamma (Convexity)"
   ]
  },
  {
   "cell_type": "code",
   "execution_count": 73,
   "metadata": {},
   "outputs": [
    {
     "data": {
      "text/plain": [
       "16.21608047001064"
      ]
     },
     "execution_count": 73,
     "metadata": {},
     "output_type": "execute_result"
    }
   ],
   "source": [
    "def get_gamma():\n",
    "    p_up = get_swap_clean_dirty_values(fixed_rate, get_shifted_yield_curve(1))[0]\n",
    "    p = get_swap_clean_dirty_values(fixed_rate, yield_curve)[0]\n",
    "    p_down = get_swap_clean_dirty_values(fixed_rate, get_shifted_yield_curve(-1))[0]\n",
    "    return (p_up - 2 * p + p_down)\n",
    "\n",
    "get_gamma()"
   ]
  },
  {
   "cell_type": "markdown",
   "metadata": {},
   "source": [
    "-------------------------------\n",
    "## Used sources"
   ]
  },
  {
   "cell_type": "markdown",
   "metadata": {},
   "source": [
    "1. https://finpricing.com/lib/IrSwap.html\n",
    "2. https://www.youtube.com/watch?v=DrlKjSG1V6s&ab_channel=RyanO%27Connell%2CCFA%2CFRM\n",
    "3. https://insight.factset.com/hubfs/Resources/White%20Papers/Interest_Rate_Swap_Valuation_WP.pdf\n",
    "4. https://analystprep.com/cfa-level-1-exam/fixed-income/modified-duration-money-duration-and-price-value-of-a-basis-point-pvbp/\n",
    "5. https://www.pearsonhighered.com/assets/samplechapter/0/1/3/1/0131962590.pdf\n",
    "6. https://www.wallstreetoasis.com/forum/trading/questions-about-the-dv01-and-duration-of-interest-rate-swap"
   ]
  }
 ],
 "metadata": {
  "kernelspec": {
   "display_name": "Python 3",
   "language": "python",
   "name": "python3"
  },
  "language_info": {
   "codemirror_mode": {
    "name": "ipython",
    "version": 3
   },
   "file_extension": ".py",
   "mimetype": "text/x-python",
   "name": "python",
   "nbconvert_exporter": "python",
   "pygments_lexer": "ipython3",
   "version": "3.10.3"
  }
 },
 "nbformat": 4,
 "nbformat_minor": 2
}
